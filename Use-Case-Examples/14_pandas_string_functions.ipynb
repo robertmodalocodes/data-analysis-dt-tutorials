{
 "cells": [
  {
   "cell_type": "markdown",
   "metadata": {},
   "source": [
    "# Project 14 - Advanced Pandas String Functions Tutorial"
   ]
  },
  {
   "cell_type": "code",
   "execution_count": 1,
   "metadata": {},
   "outputs": [],
   "source": [
    "import pandas as pd"
   ]
  },
  {
   "cell_type": "code",
   "execution_count": 2,
   "metadata": {},
   "outputs": [],
   "source": [
    "data = {\n",
    "    'Name' : ['Adrian Crassers', 'Robertson Castello', 'Jordan Frost', 'Ariel Vespellani', 'Carly Doneldson'],\n",
    "    'City' : [' Clearwater ', ' Albuquerque ', ' San Francisco', 'Albany ', ' Vail'],\n",
    "    'State': ['FL', 'NM', 'CA', 'NY', 'CO']\n",
    "}"
   ]
  },
  {
   "cell_type": "code",
   "execution_count": 3,
   "metadata": {},
   "outputs": [
    {
     "data": {
      "text/html": [
       "<div>\n",
       "<style scoped>\n",
       "    .dataframe tbody tr th:only-of-type {\n",
       "        vertical-align: middle;\n",
       "    }\n",
       "\n",
       "    .dataframe tbody tr th {\n",
       "        vertical-align: top;\n",
       "    }\n",
       "\n",
       "    .dataframe thead th {\n",
       "        text-align: right;\n",
       "    }\n",
       "</style>\n",
       "<table border=\"1\" class=\"dataframe\">\n",
       "  <thead>\n",
       "    <tr style=\"text-align: right;\">\n",
       "      <th></th>\n",
       "      <th>Name</th>\n",
       "      <th>City</th>\n",
       "      <th>State</th>\n",
       "    </tr>\n",
       "  </thead>\n",
       "  <tbody>\n",
       "    <tr>\n",
       "      <th>0</th>\n",
       "      <td>Adrian Crassers</td>\n",
       "      <td>Clearwater</td>\n",
       "      <td>FL</td>\n",
       "    </tr>\n",
       "    <tr>\n",
       "      <th>1</th>\n",
       "      <td>Robertson Castello</td>\n",
       "      <td>Albuquerque</td>\n",
       "      <td>NM</td>\n",
       "    </tr>\n",
       "    <tr>\n",
       "      <th>2</th>\n",
       "      <td>Jordan Frost</td>\n",
       "      <td>San Francisco</td>\n",
       "      <td>CA</td>\n",
       "    </tr>\n",
       "    <tr>\n",
       "      <th>3</th>\n",
       "      <td>Ariel Vespellani</td>\n",
       "      <td>Albany</td>\n",
       "      <td>NY</td>\n",
       "    </tr>\n",
       "    <tr>\n",
       "      <th>4</th>\n",
       "      <td>Carly Doneldson</td>\n",
       "      <td>Vail</td>\n",
       "      <td>CO</td>\n",
       "    </tr>\n",
       "  </tbody>\n",
       "</table>\n",
       "</div>"
      ],
      "text/plain": [
       "                 Name            City State\n",
       "0     Adrian Crassers     Clearwater     FL\n",
       "1  Robertson Castello    Albuquerque     NM\n",
       "2        Jordan Frost   San Francisco    CA\n",
       "3    Ariel Vespellani         Albany     NY\n",
       "4     Carly Doneldson            Vail    CO"
      ]
     },
     "execution_count": 3,
     "metadata": {},
     "output_type": "execute_result"
    }
   ],
   "source": [
    "df_mockup = pd.DataFrame(data)\n",
    "\n",
    "df_mockup"
   ]
  },
  {
   "cell_type": "markdown",
   "metadata": {},
   "source": [
    "## 1. str.lower()"
   ]
  },
  {
   "cell_type": "code",
   "execution_count": 4,
   "metadata": {},
   "outputs": [
    {
     "data": {
      "text/plain": [
       "0       Adrian Crassers\n",
       "1    Robertson Castello\n",
       "2          Jordan Frost\n",
       "3      Ariel Vespellani\n",
       "4       Carly Doneldson\n",
       "Name: Name, dtype: object"
      ]
     },
     "execution_count": 4,
     "metadata": {},
     "output_type": "execute_result"
    }
   ],
   "source": [
    "df_mockup['Name']"
   ]
  },
  {
   "cell_type": "code",
   "execution_count": 5,
   "metadata": {},
   "outputs": [
    {
     "data": {
      "text/plain": [
       "0       adrian crassers\n",
       "1    robertson castello\n",
       "2          jordan frost\n",
       "3      ariel vespellani\n",
       "4       carly doneldson\n",
       "Name: Name Lower, dtype: object"
      ]
     },
     "execution_count": 5,
     "metadata": {},
     "output_type": "execute_result"
    }
   ],
   "source": [
    "df_mockup['Name Lower'] = df_mockup['Name'].str.lower()\n",
    "\n",
    "df_mockup['Name Lower']"
   ]
  },
  {
   "cell_type": "code",
   "execution_count": 6,
   "metadata": {},
   "outputs": [
    {
     "data": {
      "text/plain": [
       "0       ADRIAN CRASSERS\n",
       "1    ROBERTSON CASTELLO\n",
       "2          JORDAN FROST\n",
       "3      ARIEL VESPELLANI\n",
       "4       CARLY DONELDSON\n",
       "Name: Name Upper, dtype: object"
      ]
     },
     "execution_count": 6,
     "metadata": {},
     "output_type": "execute_result"
    }
   ],
   "source": [
    "df_mockup['Name Upper'] = df_mockup['Name'].str.upper()\n",
    "\n",
    "df_mockup['Name Upper']"
   ]
  },
  {
   "cell_type": "code",
   "execution_count": 7,
   "metadata": {},
   "outputs": [
    {
     "data": {
      "text/html": [
       "<div>\n",
       "<style scoped>\n",
       "    .dataframe tbody tr th:only-of-type {\n",
       "        vertical-align: middle;\n",
       "    }\n",
       "\n",
       "    .dataframe tbody tr th {\n",
       "        vertical-align: top;\n",
       "    }\n",
       "\n",
       "    .dataframe thead th {\n",
       "        text-align: right;\n",
       "    }\n",
       "</style>\n",
       "<table border=\"1\" class=\"dataframe\">\n",
       "  <thead>\n",
       "    <tr style=\"text-align: right;\">\n",
       "      <th></th>\n",
       "      <th>Name</th>\n",
       "      <th>City</th>\n",
       "      <th>State</th>\n",
       "      <th>Name Lower</th>\n",
       "      <th>Name Upper</th>\n",
       "    </tr>\n",
       "  </thead>\n",
       "  <tbody>\n",
       "    <tr>\n",
       "      <th>0</th>\n",
       "      <td>Adrian Crassers</td>\n",
       "      <td>Clearwater</td>\n",
       "      <td>FL</td>\n",
       "      <td>adrian crassers</td>\n",
       "      <td>ADRIAN CRASSERS</td>\n",
       "    </tr>\n",
       "    <tr>\n",
       "      <th>1</th>\n",
       "      <td>Robertson Castello</td>\n",
       "      <td>Albuquerque</td>\n",
       "      <td>NM</td>\n",
       "      <td>robertson castello</td>\n",
       "      <td>ROBERTSON CASTELLO</td>\n",
       "    </tr>\n",
       "    <tr>\n",
       "      <th>2</th>\n",
       "      <td>Jordan Frost</td>\n",
       "      <td>San Francisco</td>\n",
       "      <td>CA</td>\n",
       "      <td>jordan frost</td>\n",
       "      <td>JORDAN FROST</td>\n",
       "    </tr>\n",
       "    <tr>\n",
       "      <th>3</th>\n",
       "      <td>Ariel Vespellani</td>\n",
       "      <td>Albany</td>\n",
       "      <td>NY</td>\n",
       "      <td>ariel vespellani</td>\n",
       "      <td>ARIEL VESPELLANI</td>\n",
       "    </tr>\n",
       "    <tr>\n",
       "      <th>4</th>\n",
       "      <td>Carly Doneldson</td>\n",
       "      <td>Vail</td>\n",
       "      <td>CO</td>\n",
       "      <td>carly doneldson</td>\n",
       "      <td>CARLY DONELDSON</td>\n",
       "    </tr>\n",
       "  </tbody>\n",
       "</table>\n",
       "</div>"
      ],
      "text/plain": [
       "                 Name            City State          Name Lower  \\\n",
       "0     Adrian Crassers     Clearwater     FL     adrian crassers   \n",
       "1  Robertson Castello    Albuquerque     NM  robertson castello   \n",
       "2        Jordan Frost   San Francisco    CA        jordan frost   \n",
       "3    Ariel Vespellani         Albany     NY    ariel vespellani   \n",
       "4     Carly Doneldson            Vail    CO     carly doneldson   \n",
       "\n",
       "           Name Upper  \n",
       "0     ADRIAN CRASSERS  \n",
       "1  ROBERTSON CASTELLO  \n",
       "2        JORDAN FROST  \n",
       "3    ARIEL VESPELLANI  \n",
       "4     CARLY DONELDSON  "
      ]
     },
     "execution_count": 7,
     "metadata": {},
     "output_type": "execute_result"
    }
   ],
   "source": [
    "df_mockup"
   ]
  },
  {
   "cell_type": "markdown",
   "metadata": {},
   "source": [
    "## 2. str.len()"
   ]
  },
  {
   "cell_type": "code",
   "execution_count": 8,
   "metadata": {},
   "outputs": [
    {
     "data": {
      "text/html": [
       "<div>\n",
       "<style scoped>\n",
       "    .dataframe tbody tr th:only-of-type {\n",
       "        vertical-align: middle;\n",
       "    }\n",
       "\n",
       "    .dataframe tbody tr th {\n",
       "        vertical-align: top;\n",
       "    }\n",
       "\n",
       "    .dataframe thead th {\n",
       "        text-align: right;\n",
       "    }\n",
       "</style>\n",
       "<table border=\"1\" class=\"dataframe\">\n",
       "  <thead>\n",
       "    <tr style=\"text-align: right;\">\n",
       "      <th></th>\n",
       "      <th>Name</th>\n",
       "      <th>City</th>\n",
       "      <th>State</th>\n",
       "      <th>Name Lower</th>\n",
       "      <th>Name Upper</th>\n",
       "      <th>Name Length</th>\n",
       "    </tr>\n",
       "  </thead>\n",
       "  <tbody>\n",
       "    <tr>\n",
       "      <th>0</th>\n",
       "      <td>Adrian Crassers</td>\n",
       "      <td>Clearwater</td>\n",
       "      <td>FL</td>\n",
       "      <td>adrian crassers</td>\n",
       "      <td>ADRIAN CRASSERS</td>\n",
       "      <td>15</td>\n",
       "    </tr>\n",
       "    <tr>\n",
       "      <th>1</th>\n",
       "      <td>Robertson Castello</td>\n",
       "      <td>Albuquerque</td>\n",
       "      <td>NM</td>\n",
       "      <td>robertson castello</td>\n",
       "      <td>ROBERTSON CASTELLO</td>\n",
       "      <td>18</td>\n",
       "    </tr>\n",
       "    <tr>\n",
       "      <th>2</th>\n",
       "      <td>Jordan Frost</td>\n",
       "      <td>San Francisco</td>\n",
       "      <td>CA</td>\n",
       "      <td>jordan frost</td>\n",
       "      <td>JORDAN FROST</td>\n",
       "      <td>12</td>\n",
       "    </tr>\n",
       "    <tr>\n",
       "      <th>3</th>\n",
       "      <td>Ariel Vespellani</td>\n",
       "      <td>Albany</td>\n",
       "      <td>NY</td>\n",
       "      <td>ariel vespellani</td>\n",
       "      <td>ARIEL VESPELLANI</td>\n",
       "      <td>16</td>\n",
       "    </tr>\n",
       "    <tr>\n",
       "      <th>4</th>\n",
       "      <td>Carly Doneldson</td>\n",
       "      <td>Vail</td>\n",
       "      <td>CO</td>\n",
       "      <td>carly doneldson</td>\n",
       "      <td>CARLY DONELDSON</td>\n",
       "      <td>15</td>\n",
       "    </tr>\n",
       "  </tbody>\n",
       "</table>\n",
       "</div>"
      ],
      "text/plain": [
       "                 Name            City State          Name Lower  \\\n",
       "0     Adrian Crassers     Clearwater     FL     adrian crassers   \n",
       "1  Robertson Castello    Albuquerque     NM  robertson castello   \n",
       "2        Jordan Frost   San Francisco    CA        jordan frost   \n",
       "3    Ariel Vespellani         Albany     NY    ariel vespellani   \n",
       "4     Carly Doneldson            Vail    CO     carly doneldson   \n",
       "\n",
       "           Name Upper  Name Length  \n",
       "0     ADRIAN CRASSERS           15  \n",
       "1  ROBERTSON CASTELLO           18  \n",
       "2        JORDAN FROST           12  \n",
       "3    ARIEL VESPELLANI           16  \n",
       "4     CARLY DONELDSON           15  "
      ]
     },
     "execution_count": 8,
     "metadata": {},
     "output_type": "execute_result"
    }
   ],
   "source": [
    "df_mockup['Name Length'] = df_mockup['Name'].str.len()\n",
    "\n",
    "df_mockup"
   ]
  },
  {
   "cell_type": "markdown",
   "metadata": {},
   "source": [
    "## 3. str.strip()"
   ]
  },
  {
   "cell_type": "code",
   "execution_count": 10,
   "metadata": {},
   "outputs": [
    {
     "data": {
      "text/plain": [
       "0       Clearwater \n",
       "1      Albuquerque \n",
       "2     San Francisco\n",
       "3           Albany \n",
       "4              Vail\n",
       "Name: City, dtype: object"
      ]
     },
     "execution_count": 10,
     "metadata": {},
     "output_type": "execute_result"
    }
   ],
   "source": [
    "df_mockup['City']"
   ]
  },
  {
   "cell_type": "code",
   "execution_count": 11,
   "metadata": {},
   "outputs": [
    {
     "data": {
      "text/plain": [
       "' San Francisco'"
      ]
     },
     "execution_count": 11,
     "metadata": {},
     "output_type": "execute_result"
    }
   ],
   "source": [
    "df_mockup['City'][2]"
   ]
  },
  {
   "cell_type": "code",
   "execution_count": 9,
   "metadata": {},
   "outputs": [
    {
     "data": {
      "text/plain": [
       "0    12\n",
       "1    13\n",
       "2    14\n",
       "3     7\n",
       "4     5\n",
       "Name: City, dtype: int64"
      ]
     },
     "execution_count": 9,
     "metadata": {},
     "output_type": "execute_result"
    }
   ],
   "source": [
    "df_mockup['City'].str.len()"
   ]
  },
  {
   "cell_type": "code",
   "execution_count": 13,
   "metadata": {},
   "outputs": [
    {
     "data": {
      "text/html": [
       "<div>\n",
       "<style scoped>\n",
       "    .dataframe tbody tr th:only-of-type {\n",
       "        vertical-align: middle;\n",
       "    }\n",
       "\n",
       "    .dataframe tbody tr th {\n",
       "        vertical-align: top;\n",
       "    }\n",
       "\n",
       "    .dataframe thead th {\n",
       "        text-align: right;\n",
       "    }\n",
       "</style>\n",
       "<table border=\"1\" class=\"dataframe\">\n",
       "  <thead>\n",
       "    <tr style=\"text-align: right;\">\n",
       "      <th></th>\n",
       "      <th>Name</th>\n",
       "      <th>City</th>\n",
       "      <th>State</th>\n",
       "      <th>Name Lower</th>\n",
       "      <th>Name Upper</th>\n",
       "      <th>Name Length</th>\n",
       "      <th>City Stripped</th>\n",
       "    </tr>\n",
       "  </thead>\n",
       "  <tbody>\n",
       "    <tr>\n",
       "      <th>0</th>\n",
       "      <td>Adrian Crassers</td>\n",
       "      <td>Clearwater</td>\n",
       "      <td>FL</td>\n",
       "      <td>adrian crassers</td>\n",
       "      <td>ADRIAN CRASSERS</td>\n",
       "      <td>15</td>\n",
       "      <td>Clearwater</td>\n",
       "    </tr>\n",
       "    <tr>\n",
       "      <th>1</th>\n",
       "      <td>Robertson Castello</td>\n",
       "      <td>Albuquerque</td>\n",
       "      <td>NM</td>\n",
       "      <td>robertson castello</td>\n",
       "      <td>ROBERTSON CASTELLO</td>\n",
       "      <td>18</td>\n",
       "      <td>Albuquerque</td>\n",
       "    </tr>\n",
       "    <tr>\n",
       "      <th>2</th>\n",
       "      <td>Jordan Frost</td>\n",
       "      <td>San Francisco</td>\n",
       "      <td>CA</td>\n",
       "      <td>jordan frost</td>\n",
       "      <td>JORDAN FROST</td>\n",
       "      <td>12</td>\n",
       "      <td>San Francisco</td>\n",
       "    </tr>\n",
       "    <tr>\n",
       "      <th>3</th>\n",
       "      <td>Ariel Vespellani</td>\n",
       "      <td>Albany</td>\n",
       "      <td>NY</td>\n",
       "      <td>ariel vespellani</td>\n",
       "      <td>ARIEL VESPELLANI</td>\n",
       "      <td>16</td>\n",
       "      <td>Albany</td>\n",
       "    </tr>\n",
       "    <tr>\n",
       "      <th>4</th>\n",
       "      <td>Carly Doneldson</td>\n",
       "      <td>Vail</td>\n",
       "      <td>CO</td>\n",
       "      <td>carly doneldson</td>\n",
       "      <td>CARLY DONELDSON</td>\n",
       "      <td>15</td>\n",
       "      <td>Vail</td>\n",
       "    </tr>\n",
       "  </tbody>\n",
       "</table>\n",
       "</div>"
      ],
      "text/plain": [
       "                 Name            City State          Name Lower  \\\n",
       "0     Adrian Crassers     Clearwater     FL     adrian crassers   \n",
       "1  Robertson Castello    Albuquerque     NM  robertson castello   \n",
       "2        Jordan Frost   San Francisco    CA        jordan frost   \n",
       "3    Ariel Vespellani         Albany     NY    ariel vespellani   \n",
       "4     Carly Doneldson            Vail    CO     carly doneldson   \n",
       "\n",
       "           Name Upper  Name Length  City Stripped  \n",
       "0     ADRIAN CRASSERS           15     Clearwater  \n",
       "1  ROBERTSON CASTELLO           18    Albuquerque  \n",
       "2        JORDAN FROST           12  San Francisco  \n",
       "3    ARIEL VESPELLANI           16         Albany  \n",
       "4     CARLY DONELDSON           15           Vail  "
      ]
     },
     "execution_count": 13,
     "metadata": {},
     "output_type": "execute_result"
    }
   ],
   "source": [
    "df_mockup['City Stripped'] = df_mockup['City'].str.strip()\n",
    "\n",
    "df_mockup"
   ]
  },
  {
   "cell_type": "code",
   "execution_count": 14,
   "metadata": {},
   "outputs": [
    {
     "data": {
      "text/plain": [
       "0       Clearwater\n",
       "1      Albuquerque\n",
       "2    San Francisco\n",
       "3           Albany\n",
       "4             Vail\n",
       "Name: City Stripped, dtype: object"
      ]
     },
     "execution_count": 14,
     "metadata": {},
     "output_type": "execute_result"
    }
   ],
   "source": [
    "df_mockup['City Stripped']"
   ]
  },
  {
   "cell_type": "code",
   "execution_count": 16,
   "metadata": {},
   "outputs": [
    {
     "data": {
      "text/plain": [
       "'San Francisco'"
      ]
     },
     "execution_count": 16,
     "metadata": {},
     "output_type": "execute_result"
    }
   ],
   "source": [
    "df_mockup['City Stripped'][2]"
   ]
  },
  {
   "cell_type": "code",
   "execution_count": 15,
   "metadata": {},
   "outputs": [
    {
     "data": {
      "text/plain": [
       "0    10\n",
       "1    11\n",
       "2    13\n",
       "3     6\n",
       "4     4\n",
       "Name: City Stripped, dtype: int64"
      ]
     },
     "execution_count": 15,
     "metadata": {},
     "output_type": "execute_result"
    }
   ],
   "source": [
    "df_mockup['City Stripped'].str.len()"
   ]
  },
  {
   "cell_type": "markdown",
   "metadata": {},
   "source": [
    "### 3.1. str.lstrip()"
   ]
  },
  {
   "cell_type": "code",
   "execution_count": 17,
   "metadata": {},
   "outputs": [
    {
     "data": {
      "text/plain": [
       "' Clearwater '"
      ]
     },
     "execution_count": 17,
     "metadata": {},
     "output_type": "execute_result"
    }
   ],
   "source": [
    "df_mockup['City'][0]"
   ]
  },
  {
   "cell_type": "code",
   "execution_count": 18,
   "metadata": {},
   "outputs": [],
   "source": [
    "df_mockup['City Left Stripped'] = df_mockup['City'].str.lstrip()"
   ]
  },
  {
   "cell_type": "code",
   "execution_count": 19,
   "metadata": {},
   "outputs": [
    {
     "data": {
      "text/plain": [
       "'Clearwater '"
      ]
     },
     "execution_count": 19,
     "metadata": {},
     "output_type": "execute_result"
    }
   ],
   "source": [
    "df_mockup['City Left Stripped'][0]"
   ]
  },
  {
   "cell_type": "markdown",
   "metadata": {},
   "source": [
    "### 3.2. rstrip()"
   ]
  },
  {
   "cell_type": "code",
   "execution_count": 22,
   "metadata": {},
   "outputs": [
    {
     "data": {
      "text/plain": [
       "' Albuquerque '"
      ]
     },
     "execution_count": 22,
     "metadata": {},
     "output_type": "execute_result"
    }
   ],
   "source": [
    "df_mockup['City'][1]"
   ]
  },
  {
   "cell_type": "code",
   "execution_count": 20,
   "metadata": {},
   "outputs": [],
   "source": [
    "df_mockup['City Right Stripped'] = df_mockup['City'].str.rstrip()"
   ]
  },
  {
   "cell_type": "code",
   "execution_count": 21,
   "metadata": {},
   "outputs": [
    {
     "data": {
      "text/plain": [
       "' Albuquerque'"
      ]
     },
     "execution_count": 21,
     "metadata": {},
     "output_type": "execute_result"
    }
   ],
   "source": [
    "df_mockup['City Right Stripped'][1]"
   ]
  },
  {
   "cell_type": "markdown",
   "metadata": {},
   "source": [
    "## 4. str.split()"
   ]
  },
  {
   "cell_type": "code",
   "execution_count": 23,
   "metadata": {},
   "outputs": [
    {
     "data": {
      "text/html": [
       "<div>\n",
       "<style scoped>\n",
       "    .dataframe tbody tr th:only-of-type {\n",
       "        vertical-align: middle;\n",
       "    }\n",
       "\n",
       "    .dataframe tbody tr th {\n",
       "        vertical-align: top;\n",
       "    }\n",
       "\n",
       "    .dataframe thead th {\n",
       "        text-align: right;\n",
       "    }\n",
       "</style>\n",
       "<table border=\"1\" class=\"dataframe\">\n",
       "  <thead>\n",
       "    <tr style=\"text-align: right;\">\n",
       "      <th></th>\n",
       "      <th>Name</th>\n",
       "      <th>City</th>\n",
       "      <th>State</th>\n",
       "      <th>Name Lower</th>\n",
       "      <th>Name Upper</th>\n",
       "      <th>Name Length</th>\n",
       "      <th>City Stripped</th>\n",
       "      <th>City Left Stripped</th>\n",
       "      <th>City Right Stripped</th>\n",
       "    </tr>\n",
       "  </thead>\n",
       "  <tbody>\n",
       "    <tr>\n",
       "      <th>0</th>\n",
       "      <td>Adrian Crassers</td>\n",
       "      <td>Clearwater</td>\n",
       "      <td>FL</td>\n",
       "      <td>adrian crassers</td>\n",
       "      <td>ADRIAN CRASSERS</td>\n",
       "      <td>15</td>\n",
       "      <td>Clearwater</td>\n",
       "      <td>Clearwater</td>\n",
       "      <td>Clearwater</td>\n",
       "    </tr>\n",
       "    <tr>\n",
       "      <th>1</th>\n",
       "      <td>Robertson Castello</td>\n",
       "      <td>Albuquerque</td>\n",
       "      <td>NM</td>\n",
       "      <td>robertson castello</td>\n",
       "      <td>ROBERTSON CASTELLO</td>\n",
       "      <td>18</td>\n",
       "      <td>Albuquerque</td>\n",
       "      <td>Albuquerque</td>\n",
       "      <td>Albuquerque</td>\n",
       "    </tr>\n",
       "    <tr>\n",
       "      <th>2</th>\n",
       "      <td>Jordan Frost</td>\n",
       "      <td>San Francisco</td>\n",
       "      <td>CA</td>\n",
       "      <td>jordan frost</td>\n",
       "      <td>JORDAN FROST</td>\n",
       "      <td>12</td>\n",
       "      <td>San Francisco</td>\n",
       "      <td>San Francisco</td>\n",
       "      <td>San Francisco</td>\n",
       "    </tr>\n",
       "    <tr>\n",
       "      <th>3</th>\n",
       "      <td>Ariel Vespellani</td>\n",
       "      <td>Albany</td>\n",
       "      <td>NY</td>\n",
       "      <td>ariel vespellani</td>\n",
       "      <td>ARIEL VESPELLANI</td>\n",
       "      <td>16</td>\n",
       "      <td>Albany</td>\n",
       "      <td>Albany</td>\n",
       "      <td>Albany</td>\n",
       "    </tr>\n",
       "    <tr>\n",
       "      <th>4</th>\n",
       "      <td>Carly Doneldson</td>\n",
       "      <td>Vail</td>\n",
       "      <td>CO</td>\n",
       "      <td>carly doneldson</td>\n",
       "      <td>CARLY DONELDSON</td>\n",
       "      <td>15</td>\n",
       "      <td>Vail</td>\n",
       "      <td>Vail</td>\n",
       "      <td>Vail</td>\n",
       "    </tr>\n",
       "  </tbody>\n",
       "</table>\n",
       "</div>"
      ],
      "text/plain": [
       "                 Name            City State          Name Lower  \\\n",
       "0     Adrian Crassers     Clearwater     FL     adrian crassers   \n",
       "1  Robertson Castello    Albuquerque     NM  robertson castello   \n",
       "2        Jordan Frost   San Francisco    CA        jordan frost   \n",
       "3    Ariel Vespellani         Albany     NY    ariel vespellani   \n",
       "4     Carly Doneldson            Vail    CO     carly doneldson   \n",
       "\n",
       "           Name Upper  Name Length  City Stripped City Left Stripped  \\\n",
       "0     ADRIAN CRASSERS           15     Clearwater        Clearwater    \n",
       "1  ROBERTSON CASTELLO           18    Albuquerque       Albuquerque    \n",
       "2        JORDAN FROST           12  San Francisco      San Francisco   \n",
       "3    ARIEL VESPELLANI           16         Albany            Albany    \n",
       "4     CARLY DONELDSON           15           Vail               Vail   \n",
       "\n",
       "  City Right Stripped  \n",
       "0          Clearwater  \n",
       "1         Albuquerque  \n",
       "2       San Francisco  \n",
       "3              Albany  \n",
       "4                Vail  "
      ]
     },
     "execution_count": 23,
     "metadata": {},
     "output_type": "execute_result"
    }
   ],
   "source": [
    "df_mockup"
   ]
  },
  {
   "cell_type": "code",
   "execution_count": 24,
   "metadata": {},
   "outputs": [
    {
     "data": {
      "text/plain": [
       "0       Adrian Crassers\n",
       "1    Robertson Castello\n",
       "2          Jordan Frost\n",
       "3      Ariel Vespellani\n",
       "4       Carly Doneldson\n",
       "Name: Name, dtype: object"
      ]
     },
     "execution_count": 24,
     "metadata": {},
     "output_type": "execute_result"
    }
   ],
   "source": [
    "df_mockup['Name']"
   ]
  },
  {
   "cell_type": "code",
   "execution_count": 25,
   "metadata": {},
   "outputs": [
    {
     "data": {
      "text/html": [
       "<div>\n",
       "<style scoped>\n",
       "    .dataframe tbody tr th:only-of-type {\n",
       "        vertical-align: middle;\n",
       "    }\n",
       "\n",
       "    .dataframe tbody tr th {\n",
       "        vertical-align: top;\n",
       "    }\n",
       "\n",
       "    .dataframe thead th {\n",
       "        text-align: right;\n",
       "    }\n",
       "</style>\n",
       "<table border=\"1\" class=\"dataframe\">\n",
       "  <thead>\n",
       "    <tr style=\"text-align: right;\">\n",
       "      <th></th>\n",
       "      <th>Name</th>\n",
       "      <th>City</th>\n",
       "      <th>State</th>\n",
       "      <th>Name Lower</th>\n",
       "      <th>Name Upper</th>\n",
       "      <th>Name Length</th>\n",
       "      <th>City Stripped</th>\n",
       "      <th>City Left Stripped</th>\n",
       "      <th>City Right Stripped</th>\n",
       "      <th>First Name</th>\n",
       "      <th>Last Name</th>\n",
       "    </tr>\n",
       "  </thead>\n",
       "  <tbody>\n",
       "    <tr>\n",
       "      <th>0</th>\n",
       "      <td>Adrian Crassers</td>\n",
       "      <td>Clearwater</td>\n",
       "      <td>FL</td>\n",
       "      <td>adrian crassers</td>\n",
       "      <td>ADRIAN CRASSERS</td>\n",
       "      <td>15</td>\n",
       "      <td>Clearwater</td>\n",
       "      <td>Clearwater</td>\n",
       "      <td>Clearwater</td>\n",
       "      <td>Adrian</td>\n",
       "      <td>Crassers</td>\n",
       "    </tr>\n",
       "    <tr>\n",
       "      <th>1</th>\n",
       "      <td>Robertson Castello</td>\n",
       "      <td>Albuquerque</td>\n",
       "      <td>NM</td>\n",
       "      <td>robertson castello</td>\n",
       "      <td>ROBERTSON CASTELLO</td>\n",
       "      <td>18</td>\n",
       "      <td>Albuquerque</td>\n",
       "      <td>Albuquerque</td>\n",
       "      <td>Albuquerque</td>\n",
       "      <td>Robertson</td>\n",
       "      <td>Castello</td>\n",
       "    </tr>\n",
       "    <tr>\n",
       "      <th>2</th>\n",
       "      <td>Jordan Frost</td>\n",
       "      <td>San Francisco</td>\n",
       "      <td>CA</td>\n",
       "      <td>jordan frost</td>\n",
       "      <td>JORDAN FROST</td>\n",
       "      <td>12</td>\n",
       "      <td>San Francisco</td>\n",
       "      <td>San Francisco</td>\n",
       "      <td>San Francisco</td>\n",
       "      <td>Jordan</td>\n",
       "      <td>Frost</td>\n",
       "    </tr>\n",
       "    <tr>\n",
       "      <th>3</th>\n",
       "      <td>Ariel Vespellani</td>\n",
       "      <td>Albany</td>\n",
       "      <td>NY</td>\n",
       "      <td>ariel vespellani</td>\n",
       "      <td>ARIEL VESPELLANI</td>\n",
       "      <td>16</td>\n",
       "      <td>Albany</td>\n",
       "      <td>Albany</td>\n",
       "      <td>Albany</td>\n",
       "      <td>Ariel</td>\n",
       "      <td>Vespellani</td>\n",
       "    </tr>\n",
       "    <tr>\n",
       "      <th>4</th>\n",
       "      <td>Carly Doneldson</td>\n",
       "      <td>Vail</td>\n",
       "      <td>CO</td>\n",
       "      <td>carly doneldson</td>\n",
       "      <td>CARLY DONELDSON</td>\n",
       "      <td>15</td>\n",
       "      <td>Vail</td>\n",
       "      <td>Vail</td>\n",
       "      <td>Vail</td>\n",
       "      <td>Carly</td>\n",
       "      <td>Doneldson</td>\n",
       "    </tr>\n",
       "  </tbody>\n",
       "</table>\n",
       "</div>"
      ],
      "text/plain": [
       "                 Name            City State          Name Lower  \\\n",
       "0     Adrian Crassers     Clearwater     FL     adrian crassers   \n",
       "1  Robertson Castello    Albuquerque     NM  robertson castello   \n",
       "2        Jordan Frost   San Francisco    CA        jordan frost   \n",
       "3    Ariel Vespellani         Albany     NY    ariel vespellani   \n",
       "4     Carly Doneldson            Vail    CO     carly doneldson   \n",
       "\n",
       "           Name Upper  Name Length  City Stripped City Left Stripped  \\\n",
       "0     ADRIAN CRASSERS           15     Clearwater        Clearwater    \n",
       "1  ROBERTSON CASTELLO           18    Albuquerque       Albuquerque    \n",
       "2        JORDAN FROST           12  San Francisco      San Francisco   \n",
       "3    ARIEL VESPELLANI           16         Albany            Albany    \n",
       "4     CARLY DONELDSON           15           Vail               Vail   \n",
       "\n",
       "  City Right Stripped First Name   Last Name  \n",
       "0          Clearwater     Adrian    Crassers  \n",
       "1         Albuquerque  Robertson    Castello  \n",
       "2       San Francisco     Jordan       Frost  \n",
       "3              Albany      Ariel  Vespellani  \n",
       "4                Vail      Carly   Doneldson  "
      ]
     },
     "execution_count": 25,
     "metadata": {},
     "output_type": "execute_result"
    }
   ],
   "source": [
    "df_mockup[['First Name', 'Last Name']] = df_mockup['Name'].str.split(' ', expand=True)\n",
    "\n",
    "df_mockup"
   ]
  },
  {
   "cell_type": "markdown",
   "metadata": {},
   "source": [
    "## 5. str.contains()"
   ]
  },
  {
   "cell_type": "code",
   "execution_count": 26,
   "metadata": {},
   "outputs": [
    {
     "data": {
      "text/plain": [
       "0    False\n",
       "1    False\n",
       "2     True\n",
       "3    False\n",
       "4    False\n",
       "Name: Name, dtype: bool"
      ]
     },
     "execution_count": 26,
     "metadata": {},
     "output_type": "execute_result"
    }
   ],
   "source": [
    "df_mockup['Name'].str.contains('Frost')"
   ]
  },
  {
   "cell_type": "code",
   "execution_count": 27,
   "metadata": {},
   "outputs": [
    {
     "data": {
      "text/html": [
       "<div>\n",
       "<style scoped>\n",
       "    .dataframe tbody tr th:only-of-type {\n",
       "        vertical-align: middle;\n",
       "    }\n",
       "\n",
       "    .dataframe tbody tr th {\n",
       "        vertical-align: top;\n",
       "    }\n",
       "\n",
       "    .dataframe thead th {\n",
       "        text-align: right;\n",
       "    }\n",
       "</style>\n",
       "<table border=\"1\" class=\"dataframe\">\n",
       "  <thead>\n",
       "    <tr style=\"text-align: right;\">\n",
       "      <th></th>\n",
       "      <th>Name</th>\n",
       "      <th>City</th>\n",
       "      <th>State</th>\n",
       "      <th>Name Lower</th>\n",
       "      <th>Name Upper</th>\n",
       "      <th>Name Length</th>\n",
       "      <th>City Stripped</th>\n",
       "      <th>City Left Stripped</th>\n",
       "      <th>City Right Stripped</th>\n",
       "      <th>First Name</th>\n",
       "      <th>Last Name</th>\n",
       "    </tr>\n",
       "  </thead>\n",
       "  <tbody>\n",
       "    <tr>\n",
       "      <th>2</th>\n",
       "      <td>Jordan Frost</td>\n",
       "      <td>San Francisco</td>\n",
       "      <td>CA</td>\n",
       "      <td>jordan frost</td>\n",
       "      <td>JORDAN FROST</td>\n",
       "      <td>12</td>\n",
       "      <td>San Francisco</td>\n",
       "      <td>San Francisco</td>\n",
       "      <td>San Francisco</td>\n",
       "      <td>Jordan</td>\n",
       "      <td>Frost</td>\n",
       "    </tr>\n",
       "  </tbody>\n",
       "</table>\n",
       "</div>"
      ],
      "text/plain": [
       "           Name            City State    Name Lower    Name Upper  \\\n",
       "2  Jordan Frost   San Francisco    CA  jordan frost  JORDAN FROST   \n",
       "\n",
       "   Name Length  City Stripped City Left Stripped City Right Stripped  \\\n",
       "2           12  San Francisco      San Francisco       San Francisco   \n",
       "\n",
       "  First Name Last Name  \n",
       "2     Jordan     Frost  "
      ]
     },
     "execution_count": 27,
     "metadata": {},
     "output_type": "execute_result"
    }
   ],
   "source": [
    "df_mockup[df_mockup['Name'].str.contains('Frost')]"
   ]
  },
  {
   "cell_type": "code",
   "execution_count": 28,
   "metadata": {},
   "outputs": [
    {
     "data": {
      "text/plain": [
       "0    False\n",
       "1    False\n",
       "2     True\n",
       "3    False\n",
       "4    False\n",
       "Name: Name, dtype: bool"
      ]
     },
     "execution_count": 28,
     "metadata": {},
     "output_type": "execute_result"
    }
   ],
   "source": [
    "df_mockup['Name'].str.contains('Frost', case=False)"
   ]
  },
  {
   "cell_type": "code",
   "execution_count": 29,
   "metadata": {},
   "outputs": [
    {
     "data": {
      "text/html": [
       "<div>\n",
       "<style scoped>\n",
       "    .dataframe tbody tr th:only-of-type {\n",
       "        vertical-align: middle;\n",
       "    }\n",
       "\n",
       "    .dataframe tbody tr th {\n",
       "        vertical-align: top;\n",
       "    }\n",
       "\n",
       "    .dataframe thead th {\n",
       "        text-align: right;\n",
       "    }\n",
       "</style>\n",
       "<table border=\"1\" class=\"dataframe\">\n",
       "  <thead>\n",
       "    <tr style=\"text-align: right;\">\n",
       "      <th></th>\n",
       "      <th>Name</th>\n",
       "      <th>City</th>\n",
       "      <th>State</th>\n",
       "      <th>Name Lower</th>\n",
       "      <th>Name Upper</th>\n",
       "      <th>Name Length</th>\n",
       "      <th>City Stripped</th>\n",
       "      <th>City Left Stripped</th>\n",
       "      <th>City Right Stripped</th>\n",
       "      <th>First Name</th>\n",
       "      <th>Last Name</th>\n",
       "    </tr>\n",
       "  </thead>\n",
       "  <tbody>\n",
       "    <tr>\n",
       "      <th>2</th>\n",
       "      <td>Jordan Frost</td>\n",
       "      <td>San Francisco</td>\n",
       "      <td>CA</td>\n",
       "      <td>jordan frost</td>\n",
       "      <td>JORDAN FROST</td>\n",
       "      <td>12</td>\n",
       "      <td>San Francisco</td>\n",
       "      <td>San Francisco</td>\n",
       "      <td>San Francisco</td>\n",
       "      <td>Jordan</td>\n",
       "      <td>Frost</td>\n",
       "    </tr>\n",
       "  </tbody>\n",
       "</table>\n",
       "</div>"
      ],
      "text/plain": [
       "           Name            City State    Name Lower    Name Upper  \\\n",
       "2  Jordan Frost   San Francisco    CA  jordan frost  JORDAN FROST   \n",
       "\n",
       "   Name Length  City Stripped City Left Stripped City Right Stripped  \\\n",
       "2           12  San Francisco      San Francisco       San Francisco   \n",
       "\n",
       "  First Name Last Name  \n",
       "2     Jordan     Frost  "
      ]
     },
     "execution_count": 29,
     "metadata": {},
     "output_type": "execute_result"
    }
   ],
   "source": [
    "df_mockup[df_mockup['Name'].str.contains('Frost', case=False)]"
   ]
  },
  {
   "cell_type": "markdown",
   "metadata": {},
   "source": [
    "## 6. str.replace()"
   ]
  },
  {
   "cell_type": "code",
   "execution_count": 30,
   "metadata": {},
   "outputs": [
    {
     "data": {
      "text/plain": [
       "0    FL\n",
       "1    NM\n",
       "2    CA\n",
       "3    NY\n",
       "4    CO\n",
       "Name: State, dtype: object"
      ]
     },
     "execution_count": 30,
     "metadata": {},
     "output_type": "execute_result"
    }
   ],
   "source": [
    "df_mockup['State']"
   ]
  },
  {
   "cell_type": "code",
   "execution_count": 31,
   "metadata": {},
   "outputs": [
    {
     "data": {
      "text/plain": [
       "0          FL\n",
       "1          NM\n",
       "2          CA\n",
       "3    New York\n",
       "4          CO\n",
       "Name: State, dtype: object"
      ]
     },
     "execution_count": 31,
     "metadata": {},
     "output_type": "execute_result"
    }
   ],
   "source": [
    "df_mockup['State'].str.replace('NY', 'New York')"
   ]
  },
  {
   "cell_type": "code",
   "execution_count": 92,
   "metadata": {},
   "outputs": [],
   "source": [
    "df_mockup['State Full'] = df_mockup['State'].str.replace('FL', 'Florida')\n",
    "# chaining str.replace()\n",
    "df_mockup['State Full'] = df_mockup['State'].str.replace('NY', 'New York').str.replace('CO', 'Colorado')"
   ]
  },
  {
   "cell_type": "code",
   "execution_count": 93,
   "metadata": {},
   "outputs": [
    {
     "data": {
      "text/html": [
       "<div>\n",
       "<style scoped>\n",
       "    .dataframe tbody tr th:only-of-type {\n",
       "        vertical-align: middle;\n",
       "    }\n",
       "\n",
       "    .dataframe tbody tr th {\n",
       "        vertical-align: top;\n",
       "    }\n",
       "\n",
       "    .dataframe thead th {\n",
       "        text-align: right;\n",
       "    }\n",
       "</style>\n",
       "<table border=\"1\" class=\"dataframe\">\n",
       "  <thead>\n",
       "    <tr style=\"text-align: right;\">\n",
       "      <th></th>\n",
       "      <th>Name</th>\n",
       "      <th>City</th>\n",
       "      <th>State</th>\n",
       "      <th>Name Lower</th>\n",
       "      <th>Name Upper</th>\n",
       "      <th>Name Length</th>\n",
       "      <th>City Stripped</th>\n",
       "      <th>City Left Stripped</th>\n",
       "      <th>City Right Stripped</th>\n",
       "      <th>First Name</th>\n",
       "      <th>Last Name</th>\n",
       "      <th>State Full</th>\n",
       "    </tr>\n",
       "  </thead>\n",
       "  <tbody>\n",
       "    <tr>\n",
       "      <th>0</th>\n",
       "      <td>Adrian Crassers</td>\n",
       "      <td>Clearwater</td>\n",
       "      <td>FL</td>\n",
       "      <td>adrian crassers</td>\n",
       "      <td>ADRIAN CRASSERS</td>\n",
       "      <td>15</td>\n",
       "      <td>Clearwater</td>\n",
       "      <td>Clearwater</td>\n",
       "      <td>Clearwater</td>\n",
       "      <td>Adrian</td>\n",
       "      <td>Crassers</td>\n",
       "      <td>FL</td>\n",
       "    </tr>\n",
       "    <tr>\n",
       "      <th>1</th>\n",
       "      <td>Robertson Castello</td>\n",
       "      <td>Albuquerque</td>\n",
       "      <td>NM</td>\n",
       "      <td>robertson castello</td>\n",
       "      <td>ROBERTSON CASTELLO</td>\n",
       "      <td>18</td>\n",
       "      <td>Albuquerque</td>\n",
       "      <td>Albuquerque</td>\n",
       "      <td>Albuquerque</td>\n",
       "      <td>Robertson</td>\n",
       "      <td>Castello</td>\n",
       "      <td>NM</td>\n",
       "    </tr>\n",
       "    <tr>\n",
       "      <th>2</th>\n",
       "      <td>Jordan Frost</td>\n",
       "      <td>San Francisco</td>\n",
       "      <td>CA</td>\n",
       "      <td>jordan frost</td>\n",
       "      <td>JORDAN FROST</td>\n",
       "      <td>12</td>\n",
       "      <td>San Francisco</td>\n",
       "      <td>San Francisco</td>\n",
       "      <td>San Francisco</td>\n",
       "      <td>Jordan</td>\n",
       "      <td>Frost</td>\n",
       "      <td>CA</td>\n",
       "    </tr>\n",
       "    <tr>\n",
       "      <th>3</th>\n",
       "      <td>Ariel Vespellani</td>\n",
       "      <td>Albany</td>\n",
       "      <td>NY</td>\n",
       "      <td>ariel vespellani</td>\n",
       "      <td>ARIEL VESPELLANI</td>\n",
       "      <td>16</td>\n",
       "      <td>Albany</td>\n",
       "      <td>Albany</td>\n",
       "      <td>Albany</td>\n",
       "      <td>Ariel</td>\n",
       "      <td>Vespellani</td>\n",
       "      <td>New York</td>\n",
       "    </tr>\n",
       "    <tr>\n",
       "      <th>4</th>\n",
       "      <td>Carly Doneldson</td>\n",
       "      <td>Vail</td>\n",
       "      <td>CO</td>\n",
       "      <td>carly doneldson</td>\n",
       "      <td>CARLY DONELDSON</td>\n",
       "      <td>15</td>\n",
       "      <td>Vail</td>\n",
       "      <td>Vail</td>\n",
       "      <td>Vail</td>\n",
       "      <td>Carly</td>\n",
       "      <td>Doneldson</td>\n",
       "      <td>Colorado</td>\n",
       "    </tr>\n",
       "  </tbody>\n",
       "</table>\n",
       "</div>"
      ],
      "text/plain": [
       "                 Name            City State          Name Lower  \\\n",
       "0     Adrian Crassers     Clearwater     FL     adrian crassers   \n",
       "1  Robertson Castello    Albuquerque     NM  robertson castello   \n",
       "2        Jordan Frost   San Francisco    CA        jordan frost   \n",
       "3    Ariel Vespellani         Albany     NY    ariel vespellani   \n",
       "4     Carly Doneldson            Vail    CO     carly doneldson   \n",
       "\n",
       "           Name Upper  Name Length  City Stripped City Left Stripped  \\\n",
       "0     ADRIAN CRASSERS           15     Clearwater        Clearwater    \n",
       "1  ROBERTSON CASTELLO           18    Albuquerque       Albuquerque    \n",
       "2        JORDAN FROST           12  San Francisco      San Francisco   \n",
       "3    ARIEL VESPELLANI           16         Albany            Albany    \n",
       "4     CARLY DONELDSON           15           Vail               Vail   \n",
       "\n",
       "  City Right Stripped First Name   Last Name State Full  \n",
       "0          Clearwater     Adrian    Crassers         FL  \n",
       "1         Albuquerque  Robertson    Castello         NM  \n",
       "2       San Francisco     Jordan       Frost         CA  \n",
       "3              Albany      Ariel  Vespellani   New York  \n",
       "4                Vail      Carly   Doneldson   Colorado  "
      ]
     },
     "execution_count": 93,
     "metadata": {},
     "output_type": "execute_result"
    }
   ],
   "source": [
    "df_mockup"
   ]
  },
  {
   "cell_type": "code",
   "execution_count": 94,
   "metadata": {},
   "outputs": [],
   "source": [
    "states = {'FL' : 'Florida',\n",
    "          'NM' : 'New Mexico',\n",
    "          'CA' : 'California',\n",
    "          'NY' : 'New York',\n",
    "          'CO' : 'Colorado'}"
   ]
  },
  {
   "cell_type": "code",
   "execution_count": 95,
   "metadata": {},
   "outputs": [],
   "source": [
    "df_mockup['State Full'] = df_mockup['State'].map(states)"
   ]
  },
  {
   "cell_type": "code",
   "execution_count": 96,
   "metadata": {},
   "outputs": [
    {
     "data": {
      "text/html": [
       "<div>\n",
       "<style scoped>\n",
       "    .dataframe tbody tr th:only-of-type {\n",
       "        vertical-align: middle;\n",
       "    }\n",
       "\n",
       "    .dataframe tbody tr th {\n",
       "        vertical-align: top;\n",
       "    }\n",
       "\n",
       "    .dataframe thead th {\n",
       "        text-align: right;\n",
       "    }\n",
       "</style>\n",
       "<table border=\"1\" class=\"dataframe\">\n",
       "  <thead>\n",
       "    <tr style=\"text-align: right;\">\n",
       "      <th></th>\n",
       "      <th>Name</th>\n",
       "      <th>City</th>\n",
       "      <th>State</th>\n",
       "      <th>Name Lower</th>\n",
       "      <th>Name Upper</th>\n",
       "      <th>Name Length</th>\n",
       "      <th>City Stripped</th>\n",
       "      <th>City Left Stripped</th>\n",
       "      <th>City Right Stripped</th>\n",
       "      <th>First Name</th>\n",
       "      <th>Last Name</th>\n",
       "      <th>State Full</th>\n",
       "    </tr>\n",
       "  </thead>\n",
       "  <tbody>\n",
       "    <tr>\n",
       "      <th>0</th>\n",
       "      <td>Adrian Crassers</td>\n",
       "      <td>Clearwater</td>\n",
       "      <td>FL</td>\n",
       "      <td>adrian crassers</td>\n",
       "      <td>ADRIAN CRASSERS</td>\n",
       "      <td>15</td>\n",
       "      <td>Clearwater</td>\n",
       "      <td>Clearwater</td>\n",
       "      <td>Clearwater</td>\n",
       "      <td>Adrian</td>\n",
       "      <td>Crassers</td>\n",
       "      <td>Florida</td>\n",
       "    </tr>\n",
       "    <tr>\n",
       "      <th>1</th>\n",
       "      <td>Robertson Castello</td>\n",
       "      <td>Albuquerque</td>\n",
       "      <td>NM</td>\n",
       "      <td>robertson castello</td>\n",
       "      <td>ROBERTSON CASTELLO</td>\n",
       "      <td>18</td>\n",
       "      <td>Albuquerque</td>\n",
       "      <td>Albuquerque</td>\n",
       "      <td>Albuquerque</td>\n",
       "      <td>Robertson</td>\n",
       "      <td>Castello</td>\n",
       "      <td>New Mexico</td>\n",
       "    </tr>\n",
       "    <tr>\n",
       "      <th>2</th>\n",
       "      <td>Jordan Frost</td>\n",
       "      <td>San Francisco</td>\n",
       "      <td>CA</td>\n",
       "      <td>jordan frost</td>\n",
       "      <td>JORDAN FROST</td>\n",
       "      <td>12</td>\n",
       "      <td>San Francisco</td>\n",
       "      <td>San Francisco</td>\n",
       "      <td>San Francisco</td>\n",
       "      <td>Jordan</td>\n",
       "      <td>Frost</td>\n",
       "      <td>California</td>\n",
       "    </tr>\n",
       "    <tr>\n",
       "      <th>3</th>\n",
       "      <td>Ariel Vespellani</td>\n",
       "      <td>Albany</td>\n",
       "      <td>NY</td>\n",
       "      <td>ariel vespellani</td>\n",
       "      <td>ARIEL VESPELLANI</td>\n",
       "      <td>16</td>\n",
       "      <td>Albany</td>\n",
       "      <td>Albany</td>\n",
       "      <td>Albany</td>\n",
       "      <td>Ariel</td>\n",
       "      <td>Vespellani</td>\n",
       "      <td>New York</td>\n",
       "    </tr>\n",
       "    <tr>\n",
       "      <th>4</th>\n",
       "      <td>Carly Doneldson</td>\n",
       "      <td>Vail</td>\n",
       "      <td>CO</td>\n",
       "      <td>carly doneldson</td>\n",
       "      <td>CARLY DONELDSON</td>\n",
       "      <td>15</td>\n",
       "      <td>Vail</td>\n",
       "      <td>Vail</td>\n",
       "      <td>Vail</td>\n",
       "      <td>Carly</td>\n",
       "      <td>Doneldson</td>\n",
       "      <td>Colorado</td>\n",
       "    </tr>\n",
       "  </tbody>\n",
       "</table>\n",
       "</div>"
      ],
      "text/plain": [
       "                 Name            City State          Name Lower  \\\n",
       "0     Adrian Crassers     Clearwater     FL     adrian crassers   \n",
       "1  Robertson Castello    Albuquerque     NM  robertson castello   \n",
       "2        Jordan Frost   San Francisco    CA        jordan frost   \n",
       "3    Ariel Vespellani         Albany     NY    ariel vespellani   \n",
       "4     Carly Doneldson            Vail    CO     carly doneldson   \n",
       "\n",
       "           Name Upper  Name Length  City Stripped City Left Stripped  \\\n",
       "0     ADRIAN CRASSERS           15     Clearwater        Clearwater    \n",
       "1  ROBERTSON CASTELLO           18    Albuquerque       Albuquerque    \n",
       "2        JORDAN FROST           12  San Francisco      San Francisco   \n",
       "3    ARIEL VESPELLANI           16         Albany            Albany    \n",
       "4     CARLY DONELDSON           15           Vail               Vail   \n",
       "\n",
       "  City Right Stripped First Name   Last Name  State Full  \n",
       "0          Clearwater     Adrian    Crassers     Florida  \n",
       "1         Albuquerque  Robertson    Castello  New Mexico  \n",
       "2       San Francisco     Jordan       Frost  California  \n",
       "3              Albany      Ariel  Vespellani    New York  \n",
       "4                Vail      Carly   Doneldson    Colorado  "
      ]
     },
     "execution_count": 96,
     "metadata": {},
     "output_type": "execute_result"
    }
   ],
   "source": [
    "df_mockup"
   ]
  },
  {
   "cell_type": "markdown",
   "metadata": {},
   "source": [
    "## 7. str.startswith() and str.endswith()"
   ]
  },
  {
   "cell_type": "code",
   "execution_count": 97,
   "metadata": {},
   "outputs": [
    {
     "data": {
      "text/plain": [
       "0     True\n",
       "1    False\n",
       "2    False\n",
       "3     True\n",
       "4    False\n",
       "Name: First Name, dtype: bool"
      ]
     },
     "execution_count": 97,
     "metadata": {},
     "output_type": "execute_result"
    }
   ],
   "source": [
    "df_mockup['First Name'].str.startswith('A')"
   ]
  },
  {
   "cell_type": "code",
   "execution_count": 98,
   "metadata": {},
   "outputs": [
    {
     "data": {
      "text/html": [
       "<div>\n",
       "<style scoped>\n",
       "    .dataframe tbody tr th:only-of-type {\n",
       "        vertical-align: middle;\n",
       "    }\n",
       "\n",
       "    .dataframe tbody tr th {\n",
       "        vertical-align: top;\n",
       "    }\n",
       "\n",
       "    .dataframe thead th {\n",
       "        text-align: right;\n",
       "    }\n",
       "</style>\n",
       "<table border=\"1\" class=\"dataframe\">\n",
       "  <thead>\n",
       "    <tr style=\"text-align: right;\">\n",
       "      <th></th>\n",
       "      <th>Name</th>\n",
       "      <th>City</th>\n",
       "      <th>State</th>\n",
       "      <th>Name Lower</th>\n",
       "      <th>Name Upper</th>\n",
       "      <th>Name Length</th>\n",
       "      <th>City Stripped</th>\n",
       "      <th>City Left Stripped</th>\n",
       "      <th>City Right Stripped</th>\n",
       "      <th>First Name</th>\n",
       "      <th>Last Name</th>\n",
       "      <th>State Full</th>\n",
       "    </tr>\n",
       "  </thead>\n",
       "  <tbody>\n",
       "    <tr>\n",
       "      <th>0</th>\n",
       "      <td>Adrian Crassers</td>\n",
       "      <td>Clearwater</td>\n",
       "      <td>FL</td>\n",
       "      <td>adrian crassers</td>\n",
       "      <td>ADRIAN CRASSERS</td>\n",
       "      <td>15</td>\n",
       "      <td>Clearwater</td>\n",
       "      <td>Clearwater</td>\n",
       "      <td>Clearwater</td>\n",
       "      <td>Adrian</td>\n",
       "      <td>Crassers</td>\n",
       "      <td>Florida</td>\n",
       "    </tr>\n",
       "    <tr>\n",
       "      <th>3</th>\n",
       "      <td>Ariel Vespellani</td>\n",
       "      <td>Albany</td>\n",
       "      <td>NY</td>\n",
       "      <td>ariel vespellani</td>\n",
       "      <td>ARIEL VESPELLANI</td>\n",
       "      <td>16</td>\n",
       "      <td>Albany</td>\n",
       "      <td>Albany</td>\n",
       "      <td>Albany</td>\n",
       "      <td>Ariel</td>\n",
       "      <td>Vespellani</td>\n",
       "      <td>New York</td>\n",
       "    </tr>\n",
       "  </tbody>\n",
       "</table>\n",
       "</div>"
      ],
      "text/plain": [
       "               Name          City State        Name Lower        Name Upper  \\\n",
       "0   Adrian Crassers   Clearwater     FL   adrian crassers   ADRIAN CRASSERS   \n",
       "3  Ariel Vespellani       Albany     NY  ariel vespellani  ARIEL VESPELLANI   \n",
       "\n",
       "   Name Length City Stripped City Left Stripped City Right Stripped  \\\n",
       "0           15    Clearwater        Clearwater           Clearwater   \n",
       "3           16        Albany            Albany               Albany   \n",
       "\n",
       "  First Name   Last Name State Full  \n",
       "0     Adrian    Crassers    Florida  \n",
       "3      Ariel  Vespellani   New York  "
      ]
     },
     "execution_count": 98,
     "metadata": {},
     "output_type": "execute_result"
    }
   ],
   "source": [
    "df_mockup[df_mockup['First Name'].str.startswith('A')]"
   ]
  },
  {
   "cell_type": "code",
   "execution_count": 99,
   "metadata": {},
   "outputs": [
    {
     "data": {
      "text/plain": [
       "0    False\n",
       "1     True\n",
       "2    False\n",
       "3    False\n",
       "4    False\n",
       "Name: Last Name, dtype: bool"
      ]
     },
     "execution_count": 99,
     "metadata": {},
     "output_type": "execute_result"
    }
   ],
   "source": [
    "df_mockup['Last Name'].str.endswith('o')"
   ]
  },
  {
   "cell_type": "code",
   "execution_count": 100,
   "metadata": {},
   "outputs": [
    {
     "data": {
      "text/html": [
       "<div>\n",
       "<style scoped>\n",
       "    .dataframe tbody tr th:only-of-type {\n",
       "        vertical-align: middle;\n",
       "    }\n",
       "\n",
       "    .dataframe tbody tr th {\n",
       "        vertical-align: top;\n",
       "    }\n",
       "\n",
       "    .dataframe thead th {\n",
       "        text-align: right;\n",
       "    }\n",
       "</style>\n",
       "<table border=\"1\" class=\"dataframe\">\n",
       "  <thead>\n",
       "    <tr style=\"text-align: right;\">\n",
       "      <th></th>\n",
       "      <th>Name</th>\n",
       "      <th>City</th>\n",
       "      <th>State</th>\n",
       "      <th>Name Lower</th>\n",
       "      <th>Name Upper</th>\n",
       "      <th>Name Length</th>\n",
       "      <th>City Stripped</th>\n",
       "      <th>City Left Stripped</th>\n",
       "      <th>City Right Stripped</th>\n",
       "      <th>First Name</th>\n",
       "      <th>Last Name</th>\n",
       "      <th>State Full</th>\n",
       "    </tr>\n",
       "  </thead>\n",
       "  <tbody>\n",
       "    <tr>\n",
       "      <th>1</th>\n",
       "      <td>Robertson Castello</td>\n",
       "      <td>Albuquerque</td>\n",
       "      <td>NM</td>\n",
       "      <td>robertson castello</td>\n",
       "      <td>ROBERTSON CASTELLO</td>\n",
       "      <td>18</td>\n",
       "      <td>Albuquerque</td>\n",
       "      <td>Albuquerque</td>\n",
       "      <td>Albuquerque</td>\n",
       "      <td>Robertson</td>\n",
       "      <td>Castello</td>\n",
       "      <td>New Mexico</td>\n",
       "    </tr>\n",
       "  </tbody>\n",
       "</table>\n",
       "</div>"
      ],
      "text/plain": [
       "                 Name           City State          Name Lower  \\\n",
       "1  Robertson Castello   Albuquerque     NM  robertson castello   \n",
       "\n",
       "           Name Upper  Name Length City Stripped City Left Stripped  \\\n",
       "1  ROBERTSON CASTELLO           18   Albuquerque       Albuquerque    \n",
       "\n",
       "  City Right Stripped First Name Last Name  State Full  \n",
       "1         Albuquerque  Robertson  Castello  New Mexico  "
      ]
     },
     "execution_count": 100,
     "metadata": {},
     "output_type": "execute_result"
    }
   ],
   "source": [
    "df_mockup[df_mockup['Last Name'].str.endswith('o')]"
   ]
  },
  {
   "cell_type": "markdown",
   "metadata": {},
   "source": [
    "## 8. str.cat()"
   ]
  },
  {
   "cell_type": "code",
   "execution_count": 101,
   "metadata": {},
   "outputs": [
    {
     "data": {
      "text/html": [
       "<div>\n",
       "<style scoped>\n",
       "    .dataframe tbody tr th:only-of-type {\n",
       "        vertical-align: middle;\n",
       "    }\n",
       "\n",
       "    .dataframe tbody tr th {\n",
       "        vertical-align: top;\n",
       "    }\n",
       "\n",
       "    .dataframe thead th {\n",
       "        text-align: right;\n",
       "    }\n",
       "</style>\n",
       "<table border=\"1\" class=\"dataframe\">\n",
       "  <thead>\n",
       "    <tr style=\"text-align: right;\">\n",
       "      <th></th>\n",
       "      <th>Name</th>\n",
       "      <th>City</th>\n",
       "      <th>State</th>\n",
       "      <th>Name Lower</th>\n",
       "      <th>Name Upper</th>\n",
       "      <th>Name Length</th>\n",
       "      <th>City Stripped</th>\n",
       "      <th>City Left Stripped</th>\n",
       "      <th>City Right Stripped</th>\n",
       "      <th>First Name</th>\n",
       "      <th>Last Name</th>\n",
       "      <th>State Full</th>\n",
       "    </tr>\n",
       "  </thead>\n",
       "  <tbody>\n",
       "    <tr>\n",
       "      <th>0</th>\n",
       "      <td>Adrian Crassers</td>\n",
       "      <td>Clearwater</td>\n",
       "      <td>FL</td>\n",
       "      <td>adrian crassers</td>\n",
       "      <td>ADRIAN CRASSERS</td>\n",
       "      <td>15</td>\n",
       "      <td>Clearwater</td>\n",
       "      <td>Clearwater</td>\n",
       "      <td>Clearwater</td>\n",
       "      <td>Adrian</td>\n",
       "      <td>Crassers</td>\n",
       "      <td>Florida</td>\n",
       "    </tr>\n",
       "    <tr>\n",
       "      <th>1</th>\n",
       "      <td>Robertson Castello</td>\n",
       "      <td>Albuquerque</td>\n",
       "      <td>NM</td>\n",
       "      <td>robertson castello</td>\n",
       "      <td>ROBERTSON CASTELLO</td>\n",
       "      <td>18</td>\n",
       "      <td>Albuquerque</td>\n",
       "      <td>Albuquerque</td>\n",
       "      <td>Albuquerque</td>\n",
       "      <td>Robertson</td>\n",
       "      <td>Castello</td>\n",
       "      <td>New Mexico</td>\n",
       "    </tr>\n",
       "    <tr>\n",
       "      <th>2</th>\n",
       "      <td>Jordan Frost</td>\n",
       "      <td>San Francisco</td>\n",
       "      <td>CA</td>\n",
       "      <td>jordan frost</td>\n",
       "      <td>JORDAN FROST</td>\n",
       "      <td>12</td>\n",
       "      <td>San Francisco</td>\n",
       "      <td>San Francisco</td>\n",
       "      <td>San Francisco</td>\n",
       "      <td>Jordan</td>\n",
       "      <td>Frost</td>\n",
       "      <td>California</td>\n",
       "    </tr>\n",
       "    <tr>\n",
       "      <th>3</th>\n",
       "      <td>Ariel Vespellani</td>\n",
       "      <td>Albany</td>\n",
       "      <td>NY</td>\n",
       "      <td>ariel vespellani</td>\n",
       "      <td>ARIEL VESPELLANI</td>\n",
       "      <td>16</td>\n",
       "      <td>Albany</td>\n",
       "      <td>Albany</td>\n",
       "      <td>Albany</td>\n",
       "      <td>Ariel</td>\n",
       "      <td>Vespellani</td>\n",
       "      <td>New York</td>\n",
       "    </tr>\n",
       "    <tr>\n",
       "      <th>4</th>\n",
       "      <td>Carly Doneldson</td>\n",
       "      <td>Vail</td>\n",
       "      <td>CO</td>\n",
       "      <td>carly doneldson</td>\n",
       "      <td>CARLY DONELDSON</td>\n",
       "      <td>15</td>\n",
       "      <td>Vail</td>\n",
       "      <td>Vail</td>\n",
       "      <td>Vail</td>\n",
       "      <td>Carly</td>\n",
       "      <td>Doneldson</td>\n",
       "      <td>Colorado</td>\n",
       "    </tr>\n",
       "  </tbody>\n",
       "</table>\n",
       "</div>"
      ],
      "text/plain": [
       "                 Name            City State          Name Lower  \\\n",
       "0     Adrian Crassers     Clearwater     FL     adrian crassers   \n",
       "1  Robertson Castello    Albuquerque     NM  robertson castello   \n",
       "2        Jordan Frost   San Francisco    CA        jordan frost   \n",
       "3    Ariel Vespellani         Albany     NY    ariel vespellani   \n",
       "4     Carly Doneldson            Vail    CO     carly doneldson   \n",
       "\n",
       "           Name Upper  Name Length  City Stripped City Left Stripped  \\\n",
       "0     ADRIAN CRASSERS           15     Clearwater        Clearwater    \n",
       "1  ROBERTSON CASTELLO           18    Albuquerque       Albuquerque    \n",
       "2        JORDAN FROST           12  San Francisco      San Francisco   \n",
       "3    ARIEL VESPELLANI           16         Albany            Albany    \n",
       "4     CARLY DONELDSON           15           Vail               Vail   \n",
       "\n",
       "  City Right Stripped First Name   Last Name  State Full  \n",
       "0          Clearwater     Adrian    Crassers     Florida  \n",
       "1         Albuquerque  Robertson    Castello  New Mexico  \n",
       "2       San Francisco     Jordan       Frost  California  \n",
       "3              Albany      Ariel  Vespellani    New York  \n",
       "4                Vail      Carly   Doneldson    Colorado  "
      ]
     },
     "execution_count": 101,
     "metadata": {},
     "output_type": "execute_result"
    }
   ],
   "source": [
    "df_mockup"
   ]
  },
  {
   "cell_type": "code",
   "execution_count": 102,
   "metadata": {},
   "outputs": [
    {
     "data": {
      "text/plain": [
       "0       Adrian Crassers\n",
       "1    Robertson Castello\n",
       "2          Jordan Frost\n",
       "3      Ariel Vespellani\n",
       "4       Carly Doneldson\n",
       "Name: First Name, dtype: object"
      ]
     },
     "execution_count": 102,
     "metadata": {},
     "output_type": "execute_result"
    }
   ],
   "source": [
    "df_mockup['First Name'].str.cat(df_mockup['Last Name'], sep=' ')"
   ]
  },
  {
   "cell_type": "code",
   "execution_count": 105,
   "metadata": {},
   "outputs": [],
   "source": [
    "df_mockup['Abbrev State'] = df_mockup['State'].str.cat(df_mockup['State Full'], sep=' : ')"
   ]
  },
  {
   "cell_type": "code",
   "execution_count": 106,
   "metadata": {},
   "outputs": [
    {
     "data": {
      "text/html": [
       "<div>\n",
       "<style scoped>\n",
       "    .dataframe tbody tr th:only-of-type {\n",
       "        vertical-align: middle;\n",
       "    }\n",
       "\n",
       "    .dataframe tbody tr th {\n",
       "        vertical-align: top;\n",
       "    }\n",
       "\n",
       "    .dataframe thead th {\n",
       "        text-align: right;\n",
       "    }\n",
       "</style>\n",
       "<table border=\"1\" class=\"dataframe\">\n",
       "  <thead>\n",
       "    <tr style=\"text-align: right;\">\n",
       "      <th></th>\n",
       "      <th>Name</th>\n",
       "      <th>City</th>\n",
       "      <th>State</th>\n",
       "      <th>Name Lower</th>\n",
       "      <th>Name Upper</th>\n",
       "      <th>Name Length</th>\n",
       "      <th>City Stripped</th>\n",
       "      <th>City Left Stripped</th>\n",
       "      <th>City Right Stripped</th>\n",
       "      <th>First Name</th>\n",
       "      <th>Last Name</th>\n",
       "      <th>State Full</th>\n",
       "      <th>Abbrev State</th>\n",
       "    </tr>\n",
       "  </thead>\n",
       "  <tbody>\n",
       "    <tr>\n",
       "      <th>0</th>\n",
       "      <td>Adrian Crassers</td>\n",
       "      <td>Clearwater</td>\n",
       "      <td>FL</td>\n",
       "      <td>adrian crassers</td>\n",
       "      <td>ADRIAN CRASSERS</td>\n",
       "      <td>15</td>\n",
       "      <td>Clearwater</td>\n",
       "      <td>Clearwater</td>\n",
       "      <td>Clearwater</td>\n",
       "      <td>Adrian</td>\n",
       "      <td>Crassers</td>\n",
       "      <td>Florida</td>\n",
       "      <td>FL : Florida</td>\n",
       "    </tr>\n",
       "    <tr>\n",
       "      <th>1</th>\n",
       "      <td>Robertson Castello</td>\n",
       "      <td>Albuquerque</td>\n",
       "      <td>NM</td>\n",
       "      <td>robertson castello</td>\n",
       "      <td>ROBERTSON CASTELLO</td>\n",
       "      <td>18</td>\n",
       "      <td>Albuquerque</td>\n",
       "      <td>Albuquerque</td>\n",
       "      <td>Albuquerque</td>\n",
       "      <td>Robertson</td>\n",
       "      <td>Castello</td>\n",
       "      <td>New Mexico</td>\n",
       "      <td>NM : New Mexico</td>\n",
       "    </tr>\n",
       "    <tr>\n",
       "      <th>2</th>\n",
       "      <td>Jordan Frost</td>\n",
       "      <td>San Francisco</td>\n",
       "      <td>CA</td>\n",
       "      <td>jordan frost</td>\n",
       "      <td>JORDAN FROST</td>\n",
       "      <td>12</td>\n",
       "      <td>San Francisco</td>\n",
       "      <td>San Francisco</td>\n",
       "      <td>San Francisco</td>\n",
       "      <td>Jordan</td>\n",
       "      <td>Frost</td>\n",
       "      <td>California</td>\n",
       "      <td>CA : California</td>\n",
       "    </tr>\n",
       "    <tr>\n",
       "      <th>3</th>\n",
       "      <td>Ariel Vespellani</td>\n",
       "      <td>Albany</td>\n",
       "      <td>NY</td>\n",
       "      <td>ariel vespellani</td>\n",
       "      <td>ARIEL VESPELLANI</td>\n",
       "      <td>16</td>\n",
       "      <td>Albany</td>\n",
       "      <td>Albany</td>\n",
       "      <td>Albany</td>\n",
       "      <td>Ariel</td>\n",
       "      <td>Vespellani</td>\n",
       "      <td>New York</td>\n",
       "      <td>NY : New York</td>\n",
       "    </tr>\n",
       "    <tr>\n",
       "      <th>4</th>\n",
       "      <td>Carly Doneldson</td>\n",
       "      <td>Vail</td>\n",
       "      <td>CO</td>\n",
       "      <td>carly doneldson</td>\n",
       "      <td>CARLY DONELDSON</td>\n",
       "      <td>15</td>\n",
       "      <td>Vail</td>\n",
       "      <td>Vail</td>\n",
       "      <td>Vail</td>\n",
       "      <td>Carly</td>\n",
       "      <td>Doneldson</td>\n",
       "      <td>Colorado</td>\n",
       "      <td>CO : Colorado</td>\n",
       "    </tr>\n",
       "  </tbody>\n",
       "</table>\n",
       "</div>"
      ],
      "text/plain": [
       "                 Name            City State          Name Lower  \\\n",
       "0     Adrian Crassers     Clearwater     FL     adrian crassers   \n",
       "1  Robertson Castello    Albuquerque     NM  robertson castello   \n",
       "2        Jordan Frost   San Francisco    CA        jordan frost   \n",
       "3    Ariel Vespellani         Albany     NY    ariel vespellani   \n",
       "4     Carly Doneldson            Vail    CO     carly doneldson   \n",
       "\n",
       "           Name Upper  Name Length  City Stripped City Left Stripped  \\\n",
       "0     ADRIAN CRASSERS           15     Clearwater        Clearwater    \n",
       "1  ROBERTSON CASTELLO           18    Albuquerque       Albuquerque    \n",
       "2        JORDAN FROST           12  San Francisco      San Francisco   \n",
       "3    ARIEL VESPELLANI           16         Albany            Albany    \n",
       "4     CARLY DONELDSON           15           Vail               Vail   \n",
       "\n",
       "  City Right Stripped First Name   Last Name  State Full     Abbrev State  \n",
       "0          Clearwater     Adrian    Crassers     Florida     FL : Florida  \n",
       "1         Albuquerque  Robertson    Castello  New Mexico  NM : New Mexico  \n",
       "2       San Francisco     Jordan       Frost  California  CA : California  \n",
       "3              Albany      Ariel  Vespellani    New York    NY : New York  \n",
       "4                Vail      Carly   Doneldson    Colorado    CO : Colorado  "
      ]
     },
     "execution_count": 106,
     "metadata": {},
     "output_type": "execute_result"
    }
   ],
   "source": [
    "df_mockup"
   ]
  },
  {
   "cell_type": "markdown",
   "metadata": {},
   "source": [
    "## 9. str.get()"
   ]
  },
  {
   "cell_type": "code",
   "execution_count": 107,
   "metadata": {},
   "outputs": [
    {
     "data": {
      "text/plain": [
       "Index(['Name', 'City', 'State', 'Name Lower', 'Name Upper', 'Name Length',\n",
       "       'City Stripped', 'City Left Stripped', 'City Right Stripped',\n",
       "       'First Name', 'Last Name', 'State Full', 'Abbrev State'],\n",
       "      dtype='object')"
      ]
     },
     "execution_count": 107,
     "metadata": {},
     "output_type": "execute_result"
    }
   ],
   "source": [
    "df_mockup.columns"
   ]
  },
  {
   "cell_type": "code",
   "execution_count": 108,
   "metadata": {},
   "outputs": [
    {
     "data": {
      "text/plain": [
       "0    A\n",
       "1    R\n",
       "2    J\n",
       "3    A\n",
       "4    C\n",
       "Name: Name, dtype: object"
      ]
     },
     "execution_count": 108,
     "metadata": {},
     "output_type": "execute_result"
    }
   ],
   "source": [
    "df_mockup['Name'].str.get(0)"
   ]
  },
  {
   "cell_type": "code",
   "execution_count": 109,
   "metadata": {},
   "outputs": [
    {
     "data": {
      "text/plain": [
       "0    s\n",
       "1    o\n",
       "2    t\n",
       "3    i\n",
       "4    n\n",
       "Name: Name, dtype: object"
      ]
     },
     "execution_count": 109,
     "metadata": {},
     "output_type": "execute_result"
    }
   ],
   "source": [
    "df_mockup['Name'].str.get(-1)"
   ]
  },
  {
   "cell_type": "code",
   "execution_count": 110,
   "metadata": {},
   "outputs": [
    {
     "data": {
      "text/plain": [
       "0       [Adrian, Crassers]\n",
       "1    [Robertson, Castello]\n",
       "2          [Jordan, Frost]\n",
       "3      [Ariel, Vespellani]\n",
       "4       [Carly, Doneldson]\n",
       "Name: Name, dtype: object"
      ]
     },
     "execution_count": 110,
     "metadata": {},
     "output_type": "execute_result"
    }
   ],
   "source": [
    "df_mockup['Name'].str.split()"
   ]
  },
  {
   "cell_type": "code",
   "execution_count": 111,
   "metadata": {},
   "outputs": [
    {
     "data": {
      "text/plain": [
       "0       Adrian\n",
       "1    Robertson\n",
       "2       Jordan\n",
       "3        Ariel\n",
       "4        Carly\n",
       "Name: Name, dtype: object"
      ]
     },
     "execution_count": 111,
     "metadata": {},
     "output_type": "execute_result"
    }
   ],
   "source": [
    "df_mockup['Name'].str.split().str.get(0)"
   ]
  },
  {
   "cell_type": "code",
   "execution_count": 112,
   "metadata": {},
   "outputs": [
    {
     "data": {
      "text/plain": [
       "0      Crassers\n",
       "1      Castello\n",
       "2         Frost\n",
       "3    Vespellani\n",
       "4     Doneldson\n",
       "Name: Name, dtype: object"
      ]
     },
     "execution_count": 112,
     "metadata": {},
     "output_type": "execute_result"
    }
   ],
   "source": [
    "df_mockup['Name'].str.split().str.get(-1)"
   ]
  },
  {
   "cell_type": "markdown",
   "metadata": {},
   "source": [
    "## 10. str.slice()"
   ]
  },
  {
   "cell_type": "code",
   "execution_count": 113,
   "metadata": {},
   "outputs": [
    {
     "data": {
      "text/html": [
       "<div>\n",
       "<style scoped>\n",
       "    .dataframe tbody tr th:only-of-type {\n",
       "        vertical-align: middle;\n",
       "    }\n",
       "\n",
       "    .dataframe tbody tr th {\n",
       "        vertical-align: top;\n",
       "    }\n",
       "\n",
       "    .dataframe thead th {\n",
       "        text-align: right;\n",
       "    }\n",
       "</style>\n",
       "<table border=\"1\" class=\"dataframe\">\n",
       "  <thead>\n",
       "    <tr style=\"text-align: right;\">\n",
       "      <th></th>\n",
       "      <th>Name</th>\n",
       "      <th>City</th>\n",
       "      <th>State</th>\n",
       "      <th>Name Lower</th>\n",
       "      <th>Name Upper</th>\n",
       "      <th>Name Length</th>\n",
       "      <th>City Stripped</th>\n",
       "      <th>City Left Stripped</th>\n",
       "      <th>City Right Stripped</th>\n",
       "      <th>First Name</th>\n",
       "      <th>Last Name</th>\n",
       "      <th>State Full</th>\n",
       "      <th>Abbrev State</th>\n",
       "    </tr>\n",
       "  </thead>\n",
       "  <tbody>\n",
       "    <tr>\n",
       "      <th>0</th>\n",
       "      <td>Adrian Crassers</td>\n",
       "      <td>Clearwater</td>\n",
       "      <td>FL</td>\n",
       "      <td>adrian crassers</td>\n",
       "      <td>ADRIAN CRASSERS</td>\n",
       "      <td>15</td>\n",
       "      <td>Clearwater</td>\n",
       "      <td>Clearwater</td>\n",
       "      <td>Clearwater</td>\n",
       "      <td>Adrian</td>\n",
       "      <td>Crassers</td>\n",
       "      <td>Florida</td>\n",
       "      <td>FL : Florida</td>\n",
       "    </tr>\n",
       "    <tr>\n",
       "      <th>1</th>\n",
       "      <td>Robertson Castello</td>\n",
       "      <td>Albuquerque</td>\n",
       "      <td>NM</td>\n",
       "      <td>robertson castello</td>\n",
       "      <td>ROBERTSON CASTELLO</td>\n",
       "      <td>18</td>\n",
       "      <td>Albuquerque</td>\n",
       "      <td>Albuquerque</td>\n",
       "      <td>Albuquerque</td>\n",
       "      <td>Robertson</td>\n",
       "      <td>Castello</td>\n",
       "      <td>New Mexico</td>\n",
       "      <td>NM : New Mexico</td>\n",
       "    </tr>\n",
       "    <tr>\n",
       "      <th>2</th>\n",
       "      <td>Jordan Frost</td>\n",
       "      <td>San Francisco</td>\n",
       "      <td>CA</td>\n",
       "      <td>jordan frost</td>\n",
       "      <td>JORDAN FROST</td>\n",
       "      <td>12</td>\n",
       "      <td>San Francisco</td>\n",
       "      <td>San Francisco</td>\n",
       "      <td>San Francisco</td>\n",
       "      <td>Jordan</td>\n",
       "      <td>Frost</td>\n",
       "      <td>California</td>\n",
       "      <td>CA : California</td>\n",
       "    </tr>\n",
       "    <tr>\n",
       "      <th>3</th>\n",
       "      <td>Ariel Vespellani</td>\n",
       "      <td>Albany</td>\n",
       "      <td>NY</td>\n",
       "      <td>ariel vespellani</td>\n",
       "      <td>ARIEL VESPELLANI</td>\n",
       "      <td>16</td>\n",
       "      <td>Albany</td>\n",
       "      <td>Albany</td>\n",
       "      <td>Albany</td>\n",
       "      <td>Ariel</td>\n",
       "      <td>Vespellani</td>\n",
       "      <td>New York</td>\n",
       "      <td>NY : New York</td>\n",
       "    </tr>\n",
       "    <tr>\n",
       "      <th>4</th>\n",
       "      <td>Carly Doneldson</td>\n",
       "      <td>Vail</td>\n",
       "      <td>CO</td>\n",
       "      <td>carly doneldson</td>\n",
       "      <td>CARLY DONELDSON</td>\n",
       "      <td>15</td>\n",
       "      <td>Vail</td>\n",
       "      <td>Vail</td>\n",
       "      <td>Vail</td>\n",
       "      <td>Carly</td>\n",
       "      <td>Doneldson</td>\n",
       "      <td>Colorado</td>\n",
       "      <td>CO : Colorado</td>\n",
       "    </tr>\n",
       "  </tbody>\n",
       "</table>\n",
       "</div>"
      ],
      "text/plain": [
       "                 Name            City State          Name Lower  \\\n",
       "0     Adrian Crassers     Clearwater     FL     adrian crassers   \n",
       "1  Robertson Castello    Albuquerque     NM  robertson castello   \n",
       "2        Jordan Frost   San Francisco    CA        jordan frost   \n",
       "3    Ariel Vespellani         Albany     NY    ariel vespellani   \n",
       "4     Carly Doneldson            Vail    CO     carly doneldson   \n",
       "\n",
       "           Name Upper  Name Length  City Stripped City Left Stripped  \\\n",
       "0     ADRIAN CRASSERS           15     Clearwater        Clearwater    \n",
       "1  ROBERTSON CASTELLO           18    Albuquerque       Albuquerque    \n",
       "2        JORDAN FROST           12  San Francisco      San Francisco   \n",
       "3    ARIEL VESPELLANI           16         Albany            Albany    \n",
       "4     CARLY DONELDSON           15           Vail               Vail   \n",
       "\n",
       "  City Right Stripped First Name   Last Name  State Full     Abbrev State  \n",
       "0          Clearwater     Adrian    Crassers     Florida     FL : Florida  \n",
       "1         Albuquerque  Robertson    Castello  New Mexico  NM : New Mexico  \n",
       "2       San Francisco     Jordan       Frost  California  CA : California  \n",
       "3              Albany      Ariel  Vespellani    New York    NY : New York  \n",
       "4                Vail      Carly   Doneldson    Colorado    CO : Colorado  "
      ]
     },
     "execution_count": 113,
     "metadata": {},
     "output_type": "execute_result"
    }
   ],
   "source": [
    "df_mockup"
   ]
  },
  {
   "cell_type": "code",
   "execution_count": 114,
   "metadata": {},
   "outputs": [
    {
     "data": {
      "text/plain": [
       "0      ssers\n",
       "1      tello\n",
       "2         st\n",
       "3    pellani\n",
       "4     eldson\n",
       "Name: Last Name, dtype: object"
      ]
     },
     "execution_count": 114,
     "metadata": {},
     "output_type": "execute_result"
    }
   ],
   "source": [
    "df_mockup['Last Name'].str.slice(3)"
   ]
  },
  {
   "cell_type": "code",
   "execution_count": 118,
   "metadata": {},
   "outputs": [],
   "source": [
    "df_mockup['Name State'] = df_mockup['First Name'].str.slice(0, 3) + ' ' + df_mockup['State']"
   ]
  },
  {
   "cell_type": "code",
   "execution_count": 119,
   "metadata": {},
   "outputs": [
    {
     "data": {
      "text/html": [
       "<div>\n",
       "<style scoped>\n",
       "    .dataframe tbody tr th:only-of-type {\n",
       "        vertical-align: middle;\n",
       "    }\n",
       "\n",
       "    .dataframe tbody tr th {\n",
       "        vertical-align: top;\n",
       "    }\n",
       "\n",
       "    .dataframe thead th {\n",
       "        text-align: right;\n",
       "    }\n",
       "</style>\n",
       "<table border=\"1\" class=\"dataframe\">\n",
       "  <thead>\n",
       "    <tr style=\"text-align: right;\">\n",
       "      <th></th>\n",
       "      <th>Name</th>\n",
       "      <th>City</th>\n",
       "      <th>State</th>\n",
       "      <th>Name Lower</th>\n",
       "      <th>Name Upper</th>\n",
       "      <th>Name Length</th>\n",
       "      <th>City Stripped</th>\n",
       "      <th>City Left Stripped</th>\n",
       "      <th>City Right Stripped</th>\n",
       "      <th>First Name</th>\n",
       "      <th>Last Name</th>\n",
       "      <th>State Full</th>\n",
       "      <th>Abbrev State</th>\n",
       "      <th>Name State</th>\n",
       "    </tr>\n",
       "  </thead>\n",
       "  <tbody>\n",
       "    <tr>\n",
       "      <th>0</th>\n",
       "      <td>Adrian Crassers</td>\n",
       "      <td>Clearwater</td>\n",
       "      <td>FL</td>\n",
       "      <td>adrian crassers</td>\n",
       "      <td>ADRIAN CRASSERS</td>\n",
       "      <td>15</td>\n",
       "      <td>Clearwater</td>\n",
       "      <td>Clearwater</td>\n",
       "      <td>Clearwater</td>\n",
       "      <td>Adrian</td>\n",
       "      <td>Crassers</td>\n",
       "      <td>Florida</td>\n",
       "      <td>FL : Florida</td>\n",
       "      <td>Adr FL</td>\n",
       "    </tr>\n",
       "    <tr>\n",
       "      <th>1</th>\n",
       "      <td>Robertson Castello</td>\n",
       "      <td>Albuquerque</td>\n",
       "      <td>NM</td>\n",
       "      <td>robertson castello</td>\n",
       "      <td>ROBERTSON CASTELLO</td>\n",
       "      <td>18</td>\n",
       "      <td>Albuquerque</td>\n",
       "      <td>Albuquerque</td>\n",
       "      <td>Albuquerque</td>\n",
       "      <td>Robertson</td>\n",
       "      <td>Castello</td>\n",
       "      <td>New Mexico</td>\n",
       "      <td>NM : New Mexico</td>\n",
       "      <td>Rob NM</td>\n",
       "    </tr>\n",
       "    <tr>\n",
       "      <th>2</th>\n",
       "      <td>Jordan Frost</td>\n",
       "      <td>San Francisco</td>\n",
       "      <td>CA</td>\n",
       "      <td>jordan frost</td>\n",
       "      <td>JORDAN FROST</td>\n",
       "      <td>12</td>\n",
       "      <td>San Francisco</td>\n",
       "      <td>San Francisco</td>\n",
       "      <td>San Francisco</td>\n",
       "      <td>Jordan</td>\n",
       "      <td>Frost</td>\n",
       "      <td>California</td>\n",
       "      <td>CA : California</td>\n",
       "      <td>Jor CA</td>\n",
       "    </tr>\n",
       "    <tr>\n",
       "      <th>3</th>\n",
       "      <td>Ariel Vespellani</td>\n",
       "      <td>Albany</td>\n",
       "      <td>NY</td>\n",
       "      <td>ariel vespellani</td>\n",
       "      <td>ARIEL VESPELLANI</td>\n",
       "      <td>16</td>\n",
       "      <td>Albany</td>\n",
       "      <td>Albany</td>\n",
       "      <td>Albany</td>\n",
       "      <td>Ariel</td>\n",
       "      <td>Vespellani</td>\n",
       "      <td>New York</td>\n",
       "      <td>NY : New York</td>\n",
       "      <td>Ari NY</td>\n",
       "    </tr>\n",
       "    <tr>\n",
       "      <th>4</th>\n",
       "      <td>Carly Doneldson</td>\n",
       "      <td>Vail</td>\n",
       "      <td>CO</td>\n",
       "      <td>carly doneldson</td>\n",
       "      <td>CARLY DONELDSON</td>\n",
       "      <td>15</td>\n",
       "      <td>Vail</td>\n",
       "      <td>Vail</td>\n",
       "      <td>Vail</td>\n",
       "      <td>Carly</td>\n",
       "      <td>Doneldson</td>\n",
       "      <td>Colorado</td>\n",
       "      <td>CO : Colorado</td>\n",
       "      <td>Car CO</td>\n",
       "    </tr>\n",
       "  </tbody>\n",
       "</table>\n",
       "</div>"
      ],
      "text/plain": [
       "                 Name            City State          Name Lower  \\\n",
       "0     Adrian Crassers     Clearwater     FL     adrian crassers   \n",
       "1  Robertson Castello    Albuquerque     NM  robertson castello   \n",
       "2        Jordan Frost   San Francisco    CA        jordan frost   \n",
       "3    Ariel Vespellani         Albany     NY    ariel vespellani   \n",
       "4     Carly Doneldson            Vail    CO     carly doneldson   \n",
       "\n",
       "           Name Upper  Name Length  City Stripped City Left Stripped  \\\n",
       "0     ADRIAN CRASSERS           15     Clearwater        Clearwater    \n",
       "1  ROBERTSON CASTELLO           18    Albuquerque       Albuquerque    \n",
       "2        JORDAN FROST           12  San Francisco      San Francisco   \n",
       "3    ARIEL VESPELLANI           16         Albany            Albany    \n",
       "4     CARLY DONELDSON           15           Vail               Vail   \n",
       "\n",
       "  City Right Stripped First Name   Last Name  State Full     Abbrev State  \\\n",
       "0          Clearwater     Adrian    Crassers     Florida     FL : Florida   \n",
       "1         Albuquerque  Robertson    Castello  New Mexico  NM : New Mexico   \n",
       "2       San Francisco     Jordan       Frost  California  CA : California   \n",
       "3              Albany      Ariel  Vespellani    New York    NY : New York   \n",
       "4                Vail      Carly   Doneldson    Colorado    CO : Colorado   \n",
       "\n",
       "  Name State  \n",
       "0     Adr FL  \n",
       "1     Rob NM  \n",
       "2     Jor CA  \n",
       "3     Ari NY  \n",
       "4     Car CO  "
      ]
     },
     "execution_count": 119,
     "metadata": {},
     "output_type": "execute_result"
    }
   ],
   "source": [
    "df_mockup"
   ]
  },
  {
   "cell_type": "markdown",
   "metadata": {},
   "source": [
    "## 11. str.find(), str.rfind()"
   ]
  },
  {
   "cell_type": "code",
   "execution_count": 120,
   "metadata": {},
   "outputs": [
    {
     "data": {
      "text/plain": [
       "0    3\n",
       "1   -1\n",
       "2   -1\n",
       "3    2\n",
       "4   -1\n",
       "Name: Name, dtype: int64"
      ]
     },
     "execution_count": 120,
     "metadata": {},
     "output_type": "execute_result"
    }
   ],
   "source": [
    "df_mockup['Name'].str.find('i')"
   ]
  },
  {
   "cell_type": "code",
   "execution_count": 122,
   "metadata": {},
   "outputs": [
    {
     "data": {
      "text/plain": [
       "0    6\n",
       "1   -1\n",
       "2    9\n",
       "3   -1\n",
       "4    5\n",
       "Name: State Full, dtype: int64"
      ]
     },
     "execution_count": 122,
     "metadata": {},
     "output_type": "execute_result"
    }
   ],
   "source": [
    "df_mockup['State Full'].str.rfind('a')"
   ]
  }
 ],
 "metadata": {
  "kernelspec": {
   "display_name": "base",
   "language": "python",
   "name": "python3"
  },
  "language_info": {
   "codemirror_mode": {
    "name": "ipython",
    "version": 3
   },
   "file_extension": ".py",
   "mimetype": "text/x-python",
   "name": "python",
   "nbconvert_exporter": "python",
   "pygments_lexer": "ipython3",
   "version": "3.9.15"
  }
 },
 "nbformat": 4,
 "nbformat_minor": 2
}
