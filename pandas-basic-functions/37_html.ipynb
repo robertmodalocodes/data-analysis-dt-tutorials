{
 "cells": [
  {
   "cell_type": "markdown",
   "metadata": {},
   "source": [
    "# Pandas HTML - Read tables from web"
   ]
  },
  {
   "cell_type": "code",
   "execution_count": 1,
   "metadata": {},
   "outputs": [],
   "source": [
    "import pandas as pd"
   ]
  },
  {
   "cell_type": "code",
   "execution_count": 2,
   "metadata": {},
   "outputs": [],
   "source": [
    "cities_url = \"https://en.wikipedia.org/wiki/List_of_United_States_cities_by_population\""
   ]
  },
  {
   "cell_type": "code",
   "execution_count": 3,
   "metadata": {},
   "outputs": [],
   "source": [
    "cities_data = pd.read_html(cities_url)"
   ]
  },
  {
   "cell_type": "code",
   "execution_count": 4,
   "metadata": {},
   "outputs": [
    {
     "data": {
      "text/plain": [
       "list"
      ]
     },
     "execution_count": 4,
     "metadata": {},
     "output_type": "execute_result"
    }
   ],
   "source": [
    "type(cities_data)"
   ]
  },
  {
   "cell_type": "code",
   "execution_count": 5,
   "metadata": {},
   "outputs": [
    {
     "data": {
      "text/plain": [
       "10"
      ]
     },
     "execution_count": 5,
     "metadata": {},
     "output_type": "execute_result"
    }
   ],
   "source": [
    "len(cities_data)"
   ]
  },
  {
   "cell_type": "code",
   "execution_count": 8,
   "metadata": {},
   "outputs": [
    {
     "data": {
      "text/html": [
       "<div>\n",
       "<style scoped>\n",
       "    .dataframe tbody tr th:only-of-type {\n",
       "        vertical-align: middle;\n",
       "    }\n",
       "\n",
       "    .dataframe tbody tr th {\n",
       "        vertical-align: top;\n",
       "    }\n",
       "\n",
       "    .dataframe thead tr th {\n",
       "        text-align: left;\n",
       "    }\n",
       "</style>\n",
       "<table border=\"1\" class=\"dataframe\">\n",
       "  <thead>\n",
       "    <tr>\n",
       "      <th></th>\n",
       "      <th>City</th>\n",
       "      <th>ST</th>\n",
       "      <th>2022 estimate</th>\n",
       "      <th>2020 census</th>\n",
       "      <th>Change</th>\n",
       "      <th colspan=\"2\" halign=\"left\">2020 land area</th>\n",
       "      <th colspan=\"2\" halign=\"left\">2020 density</th>\n",
       "      <th>Location</th>\n",
       "    </tr>\n",
       "    <tr>\n",
       "      <th></th>\n",
       "      <th>City</th>\n",
       "      <th>ST</th>\n",
       "      <th>2022 estimate</th>\n",
       "      <th>2020 census</th>\n",
       "      <th>Change</th>\n",
       "      <th>mi2</th>\n",
       "      <th>km2</th>\n",
       "      <th>/ mi2</th>\n",
       "      <th>/ km2</th>\n",
       "      <th>Location</th>\n",
       "    </tr>\n",
       "  </thead>\n",
       "  <tbody>\n",
       "    <tr>\n",
       "      <th>0</th>\n",
       "      <td>New York[c]</td>\n",
       "      <td>NY</td>\n",
       "      <td>8335897</td>\n",
       "      <td>8804190</td>\n",
       "      <td>−5.32%</td>\n",
       "      <td>300.5</td>\n",
       "      <td>778.3</td>\n",
       "      <td>29298</td>\n",
       "      <td>11312</td>\n",
       "      <td>.mw-parser-output .geo-default,.mw-parser-outp...</td>\n",
       "    </tr>\n",
       "    <tr>\n",
       "      <th>1</th>\n",
       "      <td>Los Angeles</td>\n",
       "      <td>CA</td>\n",
       "      <td>3822238</td>\n",
       "      <td>3898747</td>\n",
       "      <td>−1.96%</td>\n",
       "      <td>469.5</td>\n",
       "      <td>1216.0</td>\n",
       "      <td>8304</td>\n",
       "      <td>3206</td>\n",
       "      <td>34°01′N 118°25′W﻿ / ﻿34.02°N 118.41°W</td>\n",
       "    </tr>\n",
       "    <tr>\n",
       "      <th>2</th>\n",
       "      <td>Chicago</td>\n",
       "      <td>IL</td>\n",
       "      <td>2665039</td>\n",
       "      <td>2746388</td>\n",
       "      <td>−2.96%</td>\n",
       "      <td>227.7</td>\n",
       "      <td>589.7</td>\n",
       "      <td>12061</td>\n",
       "      <td>4657</td>\n",
       "      <td>41°50′N 87°41′W﻿ / ﻿41.84°N 87.68°W</td>\n",
       "    </tr>\n",
       "    <tr>\n",
       "      <th>3</th>\n",
       "      <td>Houston</td>\n",
       "      <td>TX</td>\n",
       "      <td>2302878</td>\n",
       "      <td>2304580</td>\n",
       "      <td>−0.07%</td>\n",
       "      <td>640.4</td>\n",
       "      <td>1658.6</td>\n",
       "      <td>3599</td>\n",
       "      <td>1390</td>\n",
       "      <td>29°47′N 95°23′W﻿ / ﻿29.79°N 95.39°W</td>\n",
       "    </tr>\n",
       "    <tr>\n",
       "      <th>4</th>\n",
       "      <td>Phoenix</td>\n",
       "      <td>AZ</td>\n",
       "      <td>1644409</td>\n",
       "      <td>1608139</td>\n",
       "      <td>+2.26%</td>\n",
       "      <td>518.0</td>\n",
       "      <td>1341.6</td>\n",
       "      <td>3105</td>\n",
       "      <td>1199</td>\n",
       "      <td>33°34′N 112°05′W﻿ / ﻿33.57°N 112.09°W</td>\n",
       "    </tr>\n",
       "    <tr>\n",
       "      <th>...</th>\n",
       "      <td>...</td>\n",
       "      <td>...</td>\n",
       "      <td>...</td>\n",
       "      <td>...</td>\n",
       "      <td>...</td>\n",
       "      <td>...</td>\n",
       "      <td>...</td>\n",
       "      <td>...</td>\n",
       "      <td>...</td>\n",
       "      <td>...</td>\n",
       "    </tr>\n",
       "    <tr>\n",
       "      <th>328</th>\n",
       "      <td>Albany</td>\n",
       "      <td>NY</td>\n",
       "      <td>100826</td>\n",
       "      <td>99224</td>\n",
       "      <td>+1.61%</td>\n",
       "      <td>21.4</td>\n",
       "      <td>55.4</td>\n",
       "      <td>4637</td>\n",
       "      <td>1790</td>\n",
       "      <td>42°40′N 73°48′W﻿ / ﻿42.67°N 73.80°W</td>\n",
       "    </tr>\n",
       "    <tr>\n",
       "      <th>329</th>\n",
       "      <td>Hesperia</td>\n",
       "      <td>CA</td>\n",
       "      <td>100744</td>\n",
       "      <td>99818</td>\n",
       "      <td>+0.93%</td>\n",
       "      <td>72.7</td>\n",
       "      <td>188.3</td>\n",
       "      <td>1373</td>\n",
       "      <td>530</td>\n",
       "      <td>34°24′N 117°19′W﻿ / ﻿34.40°N 117.32°W</td>\n",
       "    </tr>\n",
       "    <tr>\n",
       "      <th>330</th>\n",
       "      <td>New Bedford</td>\n",
       "      <td>MA</td>\n",
       "      <td>100682</td>\n",
       "      <td>101079</td>\n",
       "      <td>−0.39%</td>\n",
       "      <td>20.0</td>\n",
       "      <td>51.8</td>\n",
       "      <td>5054</td>\n",
       "      <td>1951</td>\n",
       "      <td>41°40′N 70°56′W﻿ / ﻿41.66°N 70.94°W</td>\n",
       "    </tr>\n",
       "    <tr>\n",
       "      <th>331</th>\n",
       "      <td>Davenport</td>\n",
       "      <td>IA</td>\n",
       "      <td>100486</td>\n",
       "      <td>101724</td>\n",
       "      <td>−1.22%</td>\n",
       "      <td>63.8</td>\n",
       "      <td>165.2</td>\n",
       "      <td>1594</td>\n",
       "      <td>615</td>\n",
       "      <td>41°34′N 90°36′W﻿ / ﻿41.56°N 90.60°W</td>\n",
       "    </tr>\n",
       "    <tr>\n",
       "      <th>332</th>\n",
       "      <td>Daly City</td>\n",
       "      <td>CA</td>\n",
       "      <td>100007</td>\n",
       "      <td>104901</td>\n",
       "      <td>−4.67%</td>\n",
       "      <td>7.6</td>\n",
       "      <td>19.7</td>\n",
       "      <td>13803</td>\n",
       "      <td>5329</td>\n",
       "      <td>37°41′N 122°28′W﻿ / ﻿37.69°N 122.47°W</td>\n",
       "    </tr>\n",
       "  </tbody>\n",
       "</table>\n",
       "<p>333 rows × 10 columns</p>\n",
       "</div>"
      ],
      "text/plain": [
       "            City  ST 2022 estimate 2020 census  Change 2020 land area          \\\n",
       "            City  ST 2022 estimate 2020 census  Change            mi2     km2   \n",
       "0    New York[c]  NY       8335897     8804190  −5.32%          300.5   778.3   \n",
       "1    Los Angeles  CA       3822238     3898747  −1.96%          469.5  1216.0   \n",
       "2        Chicago  IL       2665039     2746388  −2.96%          227.7   589.7   \n",
       "3        Houston  TX       2302878     2304580  −0.07%          640.4  1658.6   \n",
       "4        Phoenix  AZ       1644409     1608139  +2.26%          518.0  1341.6   \n",
       "..           ...  ..           ...         ...     ...            ...     ...   \n",
       "328       Albany  NY        100826       99224  +1.61%           21.4    55.4   \n",
       "329     Hesperia  CA        100744       99818  +0.93%           72.7   188.3   \n",
       "330  New Bedford  MA        100682      101079  −0.39%           20.0    51.8   \n",
       "331    Davenport  IA        100486      101724  −1.22%           63.8   165.2   \n",
       "332    Daly City  CA        100007      104901  −4.67%            7.6    19.7   \n",
       "\n",
       "    2020 density                                                  Location  \n",
       "           / mi2  / km2                                           Location  \n",
       "0          29298  11312  .mw-parser-output .geo-default,.mw-parser-outp...  \n",
       "1           8304   3206              34°01′N 118°25′W﻿ / ﻿34.02°N 118.41°W  \n",
       "2          12061   4657                41°50′N 87°41′W﻿ / ﻿41.84°N 87.68°W  \n",
       "3           3599   1390                29°47′N 95°23′W﻿ / ﻿29.79°N 95.39°W  \n",
       "4           3105   1199              33°34′N 112°05′W﻿ / ﻿33.57°N 112.09°W  \n",
       "..           ...    ...                                                ...  \n",
       "328         4637   1790                42°40′N 73°48′W﻿ / ﻿42.67°N 73.80°W  \n",
       "329         1373    530              34°24′N 117°19′W﻿ / ﻿34.40°N 117.32°W  \n",
       "330         5054   1951                41°40′N 70°56′W﻿ / ﻿41.66°N 70.94°W  \n",
       "331         1594    615                41°34′N 90°36′W﻿ / ﻿41.56°N 90.60°W  \n",
       "332        13803   5329              37°41′N 122°28′W﻿ / ﻿37.69°N 122.47°W  \n",
       "\n",
       "[333 rows x 10 columns]"
      ]
     },
     "execution_count": 8,
     "metadata": {},
     "output_type": "execute_result"
    }
   ],
   "source": [
    "cities_data[2]"
   ]
  },
  {
   "cell_type": "code",
   "execution_count": 9,
   "metadata": {},
   "outputs": [
    {
     "data": {
      "text/plain": [
       "333"
      ]
     },
     "execution_count": 9,
     "metadata": {},
     "output_type": "execute_result"
    }
   ],
   "source": [
    "len(cities_data[2])"
   ]
  }
 ],
 "metadata": {
  "kernelspec": {
   "display_name": "base",
   "language": "python",
   "name": "python3"
  },
  "language_info": {
   "codemirror_mode": {
    "name": "ipython",
    "version": 3
   },
   "file_extension": ".py",
   "mimetype": "text/x-python",
   "name": "python",
   "nbconvert_exporter": "python",
   "pygments_lexer": "ipython3",
   "version": "3.9.15"
  }
 },
 "nbformat": 4,
 "nbformat_minor": 2
}
