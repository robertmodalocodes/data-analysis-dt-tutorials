{
 "cells": [
  {
   "cell_type": "markdown",
   "metadata": {},
   "source": [
    "# Pengenalan Pandas - Latihan Analisis Data Menggunakan Library Pandas"
   ]
  },
  {
   "cell_type": "markdown",
   "metadata": {},
   "source": [
    "Mengimport library pandas"
   ]
  },
  {
   "cell_type": "code",
   "execution_count": 2,
   "metadata": {},
   "outputs": [],
   "source": [
    "# Imports\n",
    "import pandas as pd"
   ]
  },
  {
   "cell_type": "markdown",
   "metadata": {},
   "source": [
    "Untuk latihan, kita menggunakan dataset <i>dummy</i> menggunakan <i>dictionary python</i> dan <i>DataFrame</i> pandas"
   ]
  },
  {
   "cell_type": "code",
   "execution_count": 104,
   "metadata": {},
   "outputs": [
    {
     "data": {
      "text/html": [
       "<div>\n",
       "<style scoped>\n",
       "    .dataframe tbody tr th:only-of-type {\n",
       "        vertical-align: middle;\n",
       "    }\n",
       "\n",
       "    .dataframe tbody tr th {\n",
       "        vertical-align: top;\n",
       "    }\n",
       "\n",
       "    .dataframe thead th {\n",
       "        text-align: right;\n",
       "    }\n",
       "</style>\n",
       "<table border=\"1\" class=\"dataframe\">\n",
       "  <thead>\n",
       "    <tr style=\"text-align: right;\">\n",
       "      <th></th>\n",
       "      <th>Nama</th>\n",
       "      <th>Skor</th>\n",
       "      <th>Jenis_kelamin</th>\n",
       "    </tr>\n",
       "  </thead>\n",
       "  <tbody>\n",
       "    <tr>\n",
       "      <th>0</th>\n",
       "      <td>Riyan</td>\n",
       "      <td>98</td>\n",
       "      <td>Laki-laki</td>\n",
       "    </tr>\n",
       "    <tr>\n",
       "      <th>1</th>\n",
       "      <td>Aaditya</td>\n",
       "      <td>89</td>\n",
       "      <td>Perempuan</td>\n",
       "    </tr>\n",
       "    <tr>\n",
       "      <th>2</th>\n",
       "      <td>Krisandus</td>\n",
       "      <td>99</td>\n",
       "      <td>Perempuan</td>\n",
       "    </tr>\n",
       "    <tr>\n",
       "      <th>3</th>\n",
       "      <td>Vexana</td>\n",
       "      <td>87</td>\n",
       "      <td>Laki-laki</td>\n",
       "    </tr>\n",
       "    <tr>\n",
       "      <th>4</th>\n",
       "      <td>Pandi</td>\n",
       "      <td>90</td>\n",
       "      <td>Laki-laki</td>\n",
       "    </tr>\n",
       "    <tr>\n",
       "      <th>5</th>\n",
       "      <td>Mikaela</td>\n",
       "      <td>83</td>\n",
       "      <td>Perempuan</td>\n",
       "    </tr>\n",
       "    <tr>\n",
       "      <th>6</th>\n",
       "      <td>Arsene</td>\n",
       "      <td>99</td>\n",
       "      <td>Perempuan</td>\n",
       "    </tr>\n",
       "  </tbody>\n",
       "</table>\n",
       "</div>"
      ],
      "text/plain": [
       "        Nama  Skor Jenis_kelamin\n",
       "0      Riyan    98     Laki-laki\n",
       "1    Aaditya    89     Perempuan\n",
       "2  Krisandus    99     Perempuan\n",
       "3     Vexana    87     Laki-laki\n",
       "4      Pandi    90     Laki-laki\n",
       "5    Mikaela    83     Perempuan\n",
       "6     Arsene    99     Perempuan"
      ]
     },
     "execution_count": 104,
     "metadata": {},
     "output_type": "execute_result"
    }
   ],
   "source": [
    "# Membuat data dummy menggunakan dictionary dan disimpan ke dalam variabel dict1\n",
    "dict1 = {'Nama':['Riyan','Aaditya','Krisandus','Vexana','Pandi',\n",
    "                'Mikaela','Arsene'],\n",
    "                'Skor':[98,89,99,87,90,83,99],\n",
    "                'Jenis_kelamin':['Laki-laki','Perempuan','Perempuan','Laki-laki','Laki-laki',\n",
    "                         'Perempuan','Perempuan']\n",
    "               }\n",
    "\n",
    "# Data tabular tersebut (dict1) kemudian dikonversi menjadi data tabular menggunakan DataFrame pandas\n",
    "df1 = pd.DataFrame(dict1)\n",
    "\n",
    "df1"
   ]
  },
  {
   "cell_type": "markdown",
   "metadata": {},
   "source": [
    "## 1. Menampilkan tiga (3) baris data pertama"
   ]
  },
  {
   "cell_type": "code",
   "execution_count": 105,
   "metadata": {},
   "outputs": [
    {
     "data": {
      "text/html": [
       "<div>\n",
       "<style scoped>\n",
       "    .dataframe tbody tr th:only-of-type {\n",
       "        vertical-align: middle;\n",
       "    }\n",
       "\n",
       "    .dataframe tbody tr th {\n",
       "        vertical-align: top;\n",
       "    }\n",
       "\n",
       "    .dataframe thead th {\n",
       "        text-align: right;\n",
       "    }\n",
       "</style>\n",
       "<table border=\"1\" class=\"dataframe\">\n",
       "  <thead>\n",
       "    <tr style=\"text-align: right;\">\n",
       "      <th></th>\n",
       "      <th>Nama</th>\n",
       "      <th>Skor</th>\n",
       "      <th>Jenis_kelamin</th>\n",
       "    </tr>\n",
       "  </thead>\n",
       "  <tbody>\n",
       "    <tr>\n",
       "      <th>0</th>\n",
       "      <td>Riyan</td>\n",
       "      <td>98</td>\n",
       "      <td>Laki-laki</td>\n",
       "    </tr>\n",
       "    <tr>\n",
       "      <th>1</th>\n",
       "      <td>Aaditya</td>\n",
       "      <td>89</td>\n",
       "      <td>Perempuan</td>\n",
       "    </tr>\n",
       "    <tr>\n",
       "      <th>2</th>\n",
       "      <td>Krisandus</td>\n",
       "      <td>99</td>\n",
       "      <td>Perempuan</td>\n",
       "    </tr>\n",
       "  </tbody>\n",
       "</table>\n",
       "</div>"
      ],
      "text/plain": [
       "        Nama  Skor Jenis_kelamin\n",
       "0      Riyan    98     Laki-laki\n",
       "1    Aaditya    89     Perempuan\n",
       "2  Krisandus    99     Perempuan"
      ]
     },
     "execution_count": 105,
     "metadata": {},
     "output_type": "execute_result"
    }
   ],
   "source": [
    "df1.head(3)"
   ]
  },
  {
   "cell_type": "markdown",
   "metadata": {},
   "source": [
    "## 2. Menampilkan tiga (3) baris data terakhir"
   ]
  },
  {
   "cell_type": "code",
   "execution_count": 106,
   "metadata": {},
   "outputs": [
    {
     "data": {
      "text/html": [
       "<div>\n",
       "<style scoped>\n",
       "    .dataframe tbody tr th:only-of-type {\n",
       "        vertical-align: middle;\n",
       "    }\n",
       "\n",
       "    .dataframe tbody tr th {\n",
       "        vertical-align: top;\n",
       "    }\n",
       "\n",
       "    .dataframe thead th {\n",
       "        text-align: right;\n",
       "    }\n",
       "</style>\n",
       "<table border=\"1\" class=\"dataframe\">\n",
       "  <thead>\n",
       "    <tr style=\"text-align: right;\">\n",
       "      <th></th>\n",
       "      <th>Nama</th>\n",
       "      <th>Skor</th>\n",
       "      <th>Jenis_kelamin</th>\n",
       "    </tr>\n",
       "  </thead>\n",
       "  <tbody>\n",
       "    <tr>\n",
       "      <th>4</th>\n",
       "      <td>Pandi</td>\n",
       "      <td>90</td>\n",
       "      <td>Laki-laki</td>\n",
       "    </tr>\n",
       "    <tr>\n",
       "      <th>5</th>\n",
       "      <td>Mikaela</td>\n",
       "      <td>83</td>\n",
       "      <td>Perempuan</td>\n",
       "    </tr>\n",
       "    <tr>\n",
       "      <th>6</th>\n",
       "      <td>Arsene</td>\n",
       "      <td>99</td>\n",
       "      <td>Perempuan</td>\n",
       "    </tr>\n",
       "  </tbody>\n",
       "</table>\n",
       "</div>"
      ],
      "text/plain": [
       "      Nama  Skor Jenis_kelamin\n",
       "4    Pandi    90     Laki-laki\n",
       "5  Mikaela    83     Perempuan\n",
       "6   Arsene    99     Perempuan"
      ]
     },
     "execution_count": 106,
     "metadata": {},
     "output_type": "execute_result"
    }
   ],
   "source": [
    "df1.tail(3)"
   ]
  },
  {
   "cell_type": "markdown",
   "metadata": {},
   "source": [
    "## 3. Mencari bentuk/dimensi dataset yang digunakan"
   ]
  },
  {
   "cell_type": "code",
   "execution_count": 107,
   "metadata": {},
   "outputs": [
    {
     "data": {
      "text/plain": [
       "(7, 3)"
      ]
     },
     "execution_count": 107,
     "metadata": {},
     "output_type": "execute_result"
    }
   ],
   "source": [
    "df1.shape"
   ]
  },
  {
   "cell_type": "markdown",
   "metadata": {},
   "source": [
    "(7, 3) berarti dataset tersebut berjumlah 7 baris dan 3 kolom"
   ]
  },
  {
   "cell_type": "code",
   "execution_count": 108,
   "metadata": {},
   "outputs": [
    {
     "name": "stdout",
     "output_type": "stream",
     "text": [
      "Jumlah baris: 7\n",
      "Jumlah kolom: 3\n"
     ]
    }
   ],
   "source": [
    "print('Jumlah baris:', df1.shape[0])\n",
    "print('Jumlah kolom:', df1.shape[1])"
   ]
  },
  {
   "cell_type": "markdown",
   "metadata": {},
   "source": [
    "## 4. Menampilkan informasi dataset secara lengkap (jumlah baris, kolom, tipe-tipe data tiap kolom, alokasi memori, dsb)"
   ]
  },
  {
   "cell_type": "code",
   "execution_count": 109,
   "metadata": {},
   "outputs": [
    {
     "name": "stdout",
     "output_type": "stream",
     "text": [
      "<class 'pandas.core.frame.DataFrame'>\n",
      "RangeIndex: 7 entries, 0 to 6\n",
      "Data columns (total 3 columns):\n",
      " #   Column         Non-Null Count  Dtype \n",
      "---  ------         --------------  ----- \n",
      " 0   Nama           7 non-null      object\n",
      " 1   Skor           7 non-null      int64 \n",
      " 2   Jenis_kelamin  7 non-null      object\n",
      "dtypes: int64(1), object(2)\n",
      "memory usage: 296.0+ bytes\n"
     ]
    }
   ],
   "source": [
    "df1.info()"
   ]
  },
  {
   "cell_type": "markdown",
   "metadata": {},
   "source": [
    "## 5. Mencari nilai null (tanpa data) dalam dataset"
   ]
  },
  {
   "cell_type": "code",
   "execution_count": 110,
   "metadata": {},
   "outputs": [
    {
     "data": {
      "text/html": [
       "<div>\n",
       "<style scoped>\n",
       "    .dataframe tbody tr th:only-of-type {\n",
       "        vertical-align: middle;\n",
       "    }\n",
       "\n",
       "    .dataframe tbody tr th {\n",
       "        vertical-align: top;\n",
       "    }\n",
       "\n",
       "    .dataframe thead th {\n",
       "        text-align: right;\n",
       "    }\n",
       "</style>\n",
       "<table border=\"1\" class=\"dataframe\">\n",
       "  <thead>\n",
       "    <tr style=\"text-align: right;\">\n",
       "      <th></th>\n",
       "      <th>Nama</th>\n",
       "      <th>Skor</th>\n",
       "      <th>Jenis_kelamin</th>\n",
       "    </tr>\n",
       "  </thead>\n",
       "  <tbody>\n",
       "    <tr>\n",
       "      <th>0</th>\n",
       "      <td>False</td>\n",
       "      <td>False</td>\n",
       "      <td>False</td>\n",
       "    </tr>\n",
       "    <tr>\n",
       "      <th>1</th>\n",
       "      <td>False</td>\n",
       "      <td>False</td>\n",
       "      <td>False</td>\n",
       "    </tr>\n",
       "    <tr>\n",
       "      <th>2</th>\n",
       "      <td>False</td>\n",
       "      <td>False</td>\n",
       "      <td>False</td>\n",
       "    </tr>\n",
       "    <tr>\n",
       "      <th>3</th>\n",
       "      <td>False</td>\n",
       "      <td>False</td>\n",
       "      <td>False</td>\n",
       "    </tr>\n",
       "    <tr>\n",
       "      <th>4</th>\n",
       "      <td>False</td>\n",
       "      <td>False</td>\n",
       "      <td>False</td>\n",
       "    </tr>\n",
       "    <tr>\n",
       "      <th>5</th>\n",
       "      <td>False</td>\n",
       "      <td>False</td>\n",
       "      <td>False</td>\n",
       "    </tr>\n",
       "    <tr>\n",
       "      <th>6</th>\n",
       "      <td>False</td>\n",
       "      <td>False</td>\n",
       "      <td>False</td>\n",
       "    </tr>\n",
       "  </tbody>\n",
       "</table>\n",
       "</div>"
      ],
      "text/plain": [
       "    Nama   Skor  Jenis_kelamin\n",
       "0  False  False          False\n",
       "1  False  False          False\n",
       "2  False  False          False\n",
       "3  False  False          False\n",
       "4  False  False          False\n",
       "5  False  False          False\n",
       "6  False  False          False"
      ]
     },
     "execution_count": 110,
     "metadata": {},
     "output_type": "execute_result"
    }
   ],
   "source": [
    "# Menampilkan nilai null dalam bentuk boolean (True = null, False = non-null)\n",
    "df1.isnull()\n",
    "\n",
    "# Menampilkan jumlah nilai null dalam tiap kolom/atribut\n",
    "# df1.isnull().sum()\n",
    "\n",
    "# Menampilkan jumlah nilai null dalam tiap kolom/atribut\n",
    "# df1.isnull().sum(axis=0)\n",
    "\n",
    "# Menampilkan jumlah nilai null dalam tiap baris\n",
    "# df1.isnull().sum(axis=1)\n",
    "\n"
   ]
  },
  {
   "cell_type": "markdown",
   "metadata": {},
   "source": [
    "## 6. Menampilkan statistik deskriptif umum dataset"
   ]
  },
  {
   "cell_type": "code",
   "execution_count": 111,
   "metadata": {},
   "outputs": [
    {
     "data": {
      "text/html": [
       "<div>\n",
       "<style scoped>\n",
       "    .dataframe tbody tr th:only-of-type {\n",
       "        vertical-align: middle;\n",
       "    }\n",
       "\n",
       "    .dataframe tbody tr th {\n",
       "        vertical-align: top;\n",
       "    }\n",
       "\n",
       "    .dataframe thead th {\n",
       "        text-align: right;\n",
       "    }\n",
       "</style>\n",
       "<table border=\"1\" class=\"dataframe\">\n",
       "  <thead>\n",
       "    <tr style=\"text-align: right;\">\n",
       "      <th></th>\n",
       "      <th>Skor</th>\n",
       "    </tr>\n",
       "  </thead>\n",
       "  <tbody>\n",
       "    <tr>\n",
       "      <th>count</th>\n",
       "      <td>7.000000</td>\n",
       "    </tr>\n",
       "    <tr>\n",
       "      <th>mean</th>\n",
       "      <td>92.142857</td>\n",
       "    </tr>\n",
       "    <tr>\n",
       "      <th>std</th>\n",
       "      <td>6.491753</td>\n",
       "    </tr>\n",
       "    <tr>\n",
       "      <th>min</th>\n",
       "      <td>83.000000</td>\n",
       "    </tr>\n",
       "    <tr>\n",
       "      <th>25%</th>\n",
       "      <td>88.000000</td>\n",
       "    </tr>\n",
       "    <tr>\n",
       "      <th>50%</th>\n",
       "      <td>90.000000</td>\n",
       "    </tr>\n",
       "    <tr>\n",
       "      <th>75%</th>\n",
       "      <td>98.500000</td>\n",
       "    </tr>\n",
       "    <tr>\n",
       "      <th>max</th>\n",
       "      <td>99.000000</td>\n",
       "    </tr>\n",
       "  </tbody>\n",
       "</table>\n",
       "</div>"
      ],
      "text/plain": [
       "            Skor\n",
       "count   7.000000\n",
       "mean   92.142857\n",
       "std     6.491753\n",
       "min    83.000000\n",
       "25%    88.000000\n",
       "50%    90.000000\n",
       "75%    98.500000\n",
       "max    99.000000"
      ]
     },
     "execution_count": 111,
     "metadata": {},
     "output_type": "execute_result"
    }
   ],
   "source": [
    "# Manampilkan statistik deskriptif seluruh kolom/atribut\n",
    "# df1.describe(include=\"all\")\n",
    "\n",
    "# Menampilkan statistik deskriptif hanya untuk kolom/atribut yang memiliki tipe data numerik (non-null)\n",
    "# Sama dengan fungsi .describe() standar/default\n",
    "df1.describe(exclude=\"O\")"
   ]
  },
  {
   "cell_type": "markdown",
   "metadata": {},
   "source": [
    "## 7. Menampilkan nilai-nilai spesifik dari kolom Jenis_kelamin"
   ]
  },
  {
   "cell_type": "code",
   "execution_count": 112,
   "metadata": {},
   "outputs": [
    {
     "data": {
      "text/plain": [
       "array(['Laki-laki', 'Perempuan'], dtype=object)"
      ]
     },
     "execution_count": 112,
     "metadata": {},
     "output_type": "execute_result"
    }
   ],
   "source": [
    "df1[\"Jenis_kelamin\"].unique()"
   ]
  },
  {
   "cell_type": "markdown",
   "metadata": {},
   "source": [
    "## 8. Menampilkan jumlah nilai spesifik dari kolom Jenis_kelamin"
   ]
  },
  {
   "cell_type": "code",
   "execution_count": 113,
   "metadata": {},
   "outputs": [
    {
     "data": {
      "text/plain": [
       "2"
      ]
     },
     "execution_count": 113,
     "metadata": {},
     "output_type": "execute_result"
    }
   ],
   "source": [
    "df1[\"Jenis_kelamin\"].nunique()"
   ]
  },
  {
   "cell_type": "markdown",
   "metadata": {},
   "source": [
    "## 9. Menampilkan jumlah dari setiap nilai spesifik dari kolom Jenis_kelamin"
   ]
  },
  {
   "cell_type": "code",
   "execution_count": 114,
   "metadata": {},
   "outputs": [
    {
     "data": {
      "text/plain": [
       "Jenis_kelamin\n",
       "Perempuan    4\n",
       "Laki-laki    3\n",
       "Name: count, dtype: int64"
      ]
     },
     "execution_count": 114,
     "metadata": {},
     "output_type": "execute_result"
    }
   ],
   "source": [
    "df1[\"Jenis_kelamin\"].value_counts()"
   ]
  },
  {
   "cell_type": "markdown",
   "metadata": {},
   "source": [
    "## 10. Menampilkan jumlah total siswa (kolom Nama) yang memiliki nilai dengan rentang atau antara tertentu"
   ]
  },
  {
   "cell_type": "code",
   "execution_count": 115,
   "metadata": {},
   "outputs": [
    {
     "data": {
      "text/plain": [
       "0     True\n",
       "1    False\n",
       "2     True\n",
       "3    False\n",
       "4     True\n",
       "5    False\n",
       "6     True\n",
       "Name: Skor, dtype: bool"
      ]
     },
     "execution_count": 115,
     "metadata": {},
     "output_type": "execute_result"
    }
   ],
   "source": [
    "# Menampilkan boolean\n",
    "df1[\"Skor\"] >= 90"
   ]
  },
  {
   "cell_type": "code",
   "execution_count": 116,
   "metadata": {},
   "outputs": [
    {
     "data": {
      "text/html": [
       "<div>\n",
       "<style scoped>\n",
       "    .dataframe tbody tr th:only-of-type {\n",
       "        vertical-align: middle;\n",
       "    }\n",
       "\n",
       "    .dataframe tbody tr th {\n",
       "        vertical-align: top;\n",
       "    }\n",
       "\n",
       "    .dataframe thead th {\n",
       "        text-align: right;\n",
       "    }\n",
       "</style>\n",
       "<table border=\"1\" class=\"dataframe\">\n",
       "  <thead>\n",
       "    <tr style=\"text-align: right;\">\n",
       "      <th></th>\n",
       "      <th>Nama</th>\n",
       "      <th>Skor</th>\n",
       "      <th>Jenis_kelamin</th>\n",
       "    </tr>\n",
       "  </thead>\n",
       "  <tbody>\n",
       "    <tr>\n",
       "      <th>0</th>\n",
       "      <td>Riyan</td>\n",
       "      <td>98</td>\n",
       "      <td>Laki-laki</td>\n",
       "    </tr>\n",
       "    <tr>\n",
       "      <th>2</th>\n",
       "      <td>Krisandus</td>\n",
       "      <td>99</td>\n",
       "      <td>Perempuan</td>\n",
       "    </tr>\n",
       "    <tr>\n",
       "      <th>4</th>\n",
       "      <td>Pandi</td>\n",
       "      <td>90</td>\n",
       "      <td>Laki-laki</td>\n",
       "    </tr>\n",
       "    <tr>\n",
       "      <th>6</th>\n",
       "      <td>Arsene</td>\n",
       "      <td>99</td>\n",
       "      <td>Perempuan</td>\n",
       "    </tr>\n",
       "  </tbody>\n",
       "</table>\n",
       "</div>"
      ],
      "text/plain": [
       "        Nama  Skor Jenis_kelamin\n",
       "0      Riyan    98     Laki-laki\n",
       "2  Krisandus    99     Perempuan\n",
       "4      Pandi    90     Laki-laki\n",
       "6     Arsene    99     Perempuan"
      ]
     },
     "execution_count": 116,
     "metadata": {},
     "output_type": "execute_result"
    }
   ],
   "source": [
    "# Menampilkan data berdasarkan kondisi/rentang nilai yang ditentukan\n",
    "df1[df1[\"Skor\"] >= 90]"
   ]
  },
  {
   "cell_type": "code",
   "execution_count": 117,
   "metadata": {},
   "outputs": [
    {
     "data": {
      "text/plain": [
       "0     True\n",
       "1    False\n",
       "2     True\n",
       "3    False\n",
       "4     True\n",
       "5    False\n",
       "6     True\n",
       "Name: Skor, dtype: bool"
      ]
     },
     "execution_count": 117,
     "metadata": {},
     "output_type": "execute_result"
    }
   ],
   "source": [
    "# Rentang nilai banyak\n",
    "(df1[\"Skor\"] >= 90) & (df1[\"Skor\"] <= 100)"
   ]
  },
  {
   "cell_type": "code",
   "execution_count": 118,
   "metadata": {},
   "outputs": [
    {
     "data": {
      "text/html": [
       "<div>\n",
       "<style scoped>\n",
       "    .dataframe tbody tr th:only-of-type {\n",
       "        vertical-align: middle;\n",
       "    }\n",
       "\n",
       "    .dataframe tbody tr th {\n",
       "        vertical-align: top;\n",
       "    }\n",
       "\n",
       "    .dataframe thead th {\n",
       "        text-align: right;\n",
       "    }\n",
       "</style>\n",
       "<table border=\"1\" class=\"dataframe\">\n",
       "  <thead>\n",
       "    <tr style=\"text-align: right;\">\n",
       "      <th></th>\n",
       "      <th>Nama</th>\n",
       "      <th>Skor</th>\n",
       "      <th>Jenis_kelamin</th>\n",
       "    </tr>\n",
       "  </thead>\n",
       "  <tbody>\n",
       "    <tr>\n",
       "      <th>0</th>\n",
       "      <td>Riyan</td>\n",
       "      <td>98</td>\n",
       "      <td>Laki-laki</td>\n",
       "    </tr>\n",
       "    <tr>\n",
       "      <th>2</th>\n",
       "      <td>Krisandus</td>\n",
       "      <td>99</td>\n",
       "      <td>Perempuan</td>\n",
       "    </tr>\n",
       "    <tr>\n",
       "      <th>4</th>\n",
       "      <td>Pandi</td>\n",
       "      <td>90</td>\n",
       "      <td>Laki-laki</td>\n",
       "    </tr>\n",
       "    <tr>\n",
       "      <th>6</th>\n",
       "      <td>Arsene</td>\n",
       "      <td>99</td>\n",
       "      <td>Perempuan</td>\n",
       "    </tr>\n",
       "  </tbody>\n",
       "</table>\n",
       "</div>"
      ],
      "text/plain": [
       "        Nama  Skor Jenis_kelamin\n",
       "0      Riyan    98     Laki-laki\n",
       "2  Krisandus    99     Perempuan\n",
       "4      Pandi    90     Laki-laki\n",
       "6     Arsene    99     Perempuan"
      ]
     },
     "execution_count": 118,
     "metadata": {},
     "output_type": "execute_result"
    }
   ],
   "source": [
    "# Subsetting\n",
    "df1[(df1[\"Skor\"] >= 90) & (df1[\"Skor\"] <= 100)]"
   ]
  },
  {
   "cell_type": "code",
   "execution_count": 119,
   "metadata": {},
   "outputs": [
    {
     "name": "stdout",
     "output_type": "stream",
     "text": [
      "Jumlah siswa dengan skor antara 90 dan 100: 4\n",
      "Jumlah siswa dengan skor antara 90 dan 100: 4\n"
     ]
    }
   ],
   "source": [
    "# Menampilkan jumlah data dari dataset yang telah di subset\n",
    "print(\"Jumlah siswa dengan skor antara 90 dan 100:\", len(df1[(df1[\"Skor\"] >= 90) & (df1[\"Skor\"] <= 100)]))\n",
    "\n",
    "# Sama dengan\n",
    "\n",
    "print(\"Jumlah siswa dengan skor antara 90 dan 100:\", sum(df1[\"Skor\"].between(90, 100)))"
   ]
  },
  {
   "cell_type": "code",
   "execution_count": 120,
   "metadata": {},
   "outputs": [
    {
     "data": {
      "text/plain": [
       "0     True\n",
       "1    False\n",
       "2     True\n",
       "3    False\n",
       "4     True\n",
       "5    False\n",
       "6     True\n",
       "Name: Skor, dtype: bool"
      ]
     },
     "execution_count": 120,
     "metadata": {},
     "output_type": "execute_result"
    }
   ],
   "source": [
    "# Kondisi / rentang nilai menggunakan fungsi .between(,)\n",
    "df1[\"Skor\"].between(90, 100)"
   ]
  },
  {
   "cell_type": "code",
   "execution_count": 121,
   "metadata": {},
   "outputs": [
    {
     "data": {
      "text/html": [
       "<div>\n",
       "<style scoped>\n",
       "    .dataframe tbody tr th:only-of-type {\n",
       "        vertical-align: middle;\n",
       "    }\n",
       "\n",
       "    .dataframe tbody tr th {\n",
       "        vertical-align: top;\n",
       "    }\n",
       "\n",
       "    .dataframe thead th {\n",
       "        text-align: right;\n",
       "    }\n",
       "</style>\n",
       "<table border=\"1\" class=\"dataframe\">\n",
       "  <thead>\n",
       "    <tr style=\"text-align: right;\">\n",
       "      <th></th>\n",
       "      <th>Nama</th>\n",
       "      <th>Skor</th>\n",
       "      <th>Jenis_kelamin</th>\n",
       "    </tr>\n",
       "  </thead>\n",
       "  <tbody>\n",
       "    <tr>\n",
       "      <th>0</th>\n",
       "      <td>Riyan</td>\n",
       "      <td>98</td>\n",
       "      <td>Laki-laki</td>\n",
       "    </tr>\n",
       "    <tr>\n",
       "      <th>2</th>\n",
       "      <td>Krisandus</td>\n",
       "      <td>99</td>\n",
       "      <td>Perempuan</td>\n",
       "    </tr>\n",
       "    <tr>\n",
       "      <th>4</th>\n",
       "      <td>Pandi</td>\n",
       "      <td>90</td>\n",
       "      <td>Laki-laki</td>\n",
       "    </tr>\n",
       "    <tr>\n",
       "      <th>6</th>\n",
       "      <td>Arsene</td>\n",
       "      <td>99</td>\n",
       "      <td>Perempuan</td>\n",
       "    </tr>\n",
       "  </tbody>\n",
       "</table>\n",
       "</div>"
      ],
      "text/plain": [
       "        Nama  Skor Jenis_kelamin\n",
       "0      Riyan    98     Laki-laki\n",
       "2  Krisandus    99     Perempuan\n",
       "4      Pandi    90     Laki-laki\n",
       "6     Arsene    99     Perempuan"
      ]
     },
     "execution_count": 121,
     "metadata": {},
     "output_type": "execute_result"
    }
   ],
   "source": [
    "# Subsetting dataset berdasarkan kondisi / rentang nilai menggunakan fungsi .between(,)\n",
    "df1[df1[\"Skor\"].between(90, 100)]\n",
    "\n",
    "# Dapat dilihat bahwa metode ini sama dengan:\n",
    "# df1[(df1[\"Skor\"] >= 90) & (df1[\"Skor\"] <= 100)]"
   ]
  },
  {
   "cell_type": "markdown",
   "metadata": {},
   "source": [
    "## 11. Menampilkan nilai maksimum, minimum, dan rata-rata (kolom Nilai)"
   ]
  },
  {
   "cell_type": "code",
   "execution_count": 122,
   "metadata": {},
   "outputs": [
    {
     "data": {
      "text/plain": [
       "92.14285714285714"
      ]
     },
     "execution_count": 122,
     "metadata": {},
     "output_type": "execute_result"
    }
   ],
   "source": [
    "df1[\"Skor\"].min()\n",
    "df1[\"Skor\"].max()\n",
    "df1[\"Skor\"].mean()"
   ]
  },
  {
   "cell_type": "markdown",
   "metadata": {},
   "source": [
    "## 12. Fungsi apply"
   ]
  },
  {
   "cell_type": "markdown",
   "metadata": {},
   "source": [
    "### 12.1. Membuat fungsi"
   ]
  },
  {
   "cell_type": "code",
   "execution_count": 123,
   "metadata": {},
   "outputs": [],
   "source": [
    "# Using custom full function\n",
    "def skor(x):\n",
    "    return x/2"
   ]
  },
  {
   "cell_type": "code",
   "execution_count": 126,
   "metadata": {},
   "outputs": [],
   "source": [
    "# Menerapkan fungsi tersebut untuk menghitung nilai-nilai dari sebuah kolom/atribut\n",
    "# Dan menyimpan nilai-nilai tersebut ke dalam sebuah kolom baru (kolom Skor_per_dua)\n",
    "df1[\"Skor_per_dua\"] = df1[\"Skor\"].apply(skor)\n",
    "\n",
    "# Mengonversi nilai-nilai tersebut ke dalam tipe integer (int)\n",
    "# Dan menyimpan nilai-nilai tersebut ke dalam sebuah kolom baru (kolom Skor_per_dua_ints)\n",
    "df1[\"Skor_per_dua_ints\"] = [int(i) for i in df1[\"Skor\"].apply(skor)]"
   ]
  },
  {
   "cell_type": "code",
   "execution_count": 128,
   "metadata": {},
   "outputs": [
    {
     "data": {
      "text/html": [
       "<div>\n",
       "<style scoped>\n",
       "    .dataframe tbody tr th:only-of-type {\n",
       "        vertical-align: middle;\n",
       "    }\n",
       "\n",
       "    .dataframe tbody tr th {\n",
       "        vertical-align: top;\n",
       "    }\n",
       "\n",
       "    .dataframe thead th {\n",
       "        text-align: right;\n",
       "    }\n",
       "</style>\n",
       "<table border=\"1\" class=\"dataframe\">\n",
       "  <thead>\n",
       "    <tr style=\"text-align: right;\">\n",
       "      <th></th>\n",
       "      <th>Nama</th>\n",
       "      <th>Skor</th>\n",
       "      <th>Jenis_kelamin</th>\n",
       "      <th>Skor_per_dua</th>\n",
       "      <th>Skor_per_dua_ints</th>\n",
       "    </tr>\n",
       "  </thead>\n",
       "  <tbody>\n",
       "    <tr>\n",
       "      <th>0</th>\n",
       "      <td>Riyan</td>\n",
       "      <td>98</td>\n",
       "      <td>Laki-laki</td>\n",
       "      <td>49.0</td>\n",
       "      <td>49</td>\n",
       "    </tr>\n",
       "    <tr>\n",
       "      <th>1</th>\n",
       "      <td>Aaditya</td>\n",
       "      <td>89</td>\n",
       "      <td>Perempuan</td>\n",
       "      <td>44.5</td>\n",
       "      <td>44</td>\n",
       "    </tr>\n",
       "    <tr>\n",
       "      <th>2</th>\n",
       "      <td>Krisandus</td>\n",
       "      <td>99</td>\n",
       "      <td>Perempuan</td>\n",
       "      <td>49.5</td>\n",
       "      <td>49</td>\n",
       "    </tr>\n",
       "    <tr>\n",
       "      <th>3</th>\n",
       "      <td>Vexana</td>\n",
       "      <td>87</td>\n",
       "      <td>Laki-laki</td>\n",
       "      <td>43.5</td>\n",
       "      <td>43</td>\n",
       "    </tr>\n",
       "    <tr>\n",
       "      <th>4</th>\n",
       "      <td>Pandi</td>\n",
       "      <td>90</td>\n",
       "      <td>Laki-laki</td>\n",
       "      <td>45.0</td>\n",
       "      <td>45</td>\n",
       "    </tr>\n",
       "    <tr>\n",
       "      <th>5</th>\n",
       "      <td>Mikaela</td>\n",
       "      <td>83</td>\n",
       "      <td>Perempuan</td>\n",
       "      <td>41.5</td>\n",
       "      <td>41</td>\n",
       "    </tr>\n",
       "    <tr>\n",
       "      <th>6</th>\n",
       "      <td>Arsene</td>\n",
       "      <td>99</td>\n",
       "      <td>Perempuan</td>\n",
       "      <td>49.5</td>\n",
       "      <td>49</td>\n",
       "    </tr>\n",
       "  </tbody>\n",
       "</table>\n",
       "</div>"
      ],
      "text/plain": [
       "        Nama  Skor Jenis_kelamin  Skor_per_dua  Skor_per_dua_ints\n",
       "0      Riyan    98     Laki-laki          49.0                 49\n",
       "1    Aaditya    89     Perempuan          44.5                 44\n",
       "2  Krisandus    99     Perempuan          49.5                 49\n",
       "3     Vexana    87     Laki-laki          43.5                 43\n",
       "4      Pandi    90     Laki-laki          45.0                 45\n",
       "5    Mikaela    83     Perempuan          41.5                 41\n",
       "6     Arsene    99     Perempuan          49.5                 49"
      ]
     },
     "execution_count": 128,
     "metadata": {},
     "output_type": "execute_result"
    }
   ],
   "source": [
    "df1"
   ]
  },
  {
   "cell_type": "markdown",
   "metadata": {},
   "source": [
    "### 12.2. Menggunakan fungsi lambda"
   ]
  },
  {
   "cell_type": "code",
   "execution_count": 134,
   "metadata": {},
   "outputs": [],
   "source": [
    "# Menghitung nilai-nilai baru dari suatu kolom menggunakan fungsi lambda\n",
    "df1[\"Skor\"].apply(lambda x: x / 2)\n",
    "\n",
    "# Dan menyimpan nilai-nilai tersebut ke dalam sebuah kolom baru (kolom Skor_lambda)\n",
    "df1[\"Skor_lambda\"] = df1[\"Skor\"].apply(lambda x: x // 2)"
   ]
  },
  {
   "cell_type": "code",
   "execution_count": 135,
   "metadata": {},
   "outputs": [
    {
     "data": {
      "text/html": [
       "<div>\n",
       "<style scoped>\n",
       "    .dataframe tbody tr th:only-of-type {\n",
       "        vertical-align: middle;\n",
       "    }\n",
       "\n",
       "    .dataframe tbody tr th {\n",
       "        vertical-align: top;\n",
       "    }\n",
       "\n",
       "    .dataframe thead th {\n",
       "        text-align: right;\n",
       "    }\n",
       "</style>\n",
       "<table border=\"1\" class=\"dataframe\">\n",
       "  <thead>\n",
       "    <tr style=\"text-align: right;\">\n",
       "      <th></th>\n",
       "      <th>Nama</th>\n",
       "      <th>Skor</th>\n",
       "      <th>Jenis_kelamin</th>\n",
       "      <th>Skor_per_dua</th>\n",
       "      <th>Skor_per_dua_ints</th>\n",
       "      <th>Skor_lambda</th>\n",
       "    </tr>\n",
       "  </thead>\n",
       "  <tbody>\n",
       "    <tr>\n",
       "      <th>0</th>\n",
       "      <td>Riyan</td>\n",
       "      <td>98</td>\n",
       "      <td>Laki-laki</td>\n",
       "      <td>49.0</td>\n",
       "      <td>49</td>\n",
       "      <td>49</td>\n",
       "    </tr>\n",
       "    <tr>\n",
       "      <th>1</th>\n",
       "      <td>Aaditya</td>\n",
       "      <td>89</td>\n",
       "      <td>Perempuan</td>\n",
       "      <td>44.5</td>\n",
       "      <td>44</td>\n",
       "      <td>44</td>\n",
       "    </tr>\n",
       "    <tr>\n",
       "      <th>2</th>\n",
       "      <td>Krisandus</td>\n",
       "      <td>99</td>\n",
       "      <td>Perempuan</td>\n",
       "      <td>49.5</td>\n",
       "      <td>49</td>\n",
       "      <td>49</td>\n",
       "    </tr>\n",
       "    <tr>\n",
       "      <th>3</th>\n",
       "      <td>Vexana</td>\n",
       "      <td>87</td>\n",
       "      <td>Laki-laki</td>\n",
       "      <td>43.5</td>\n",
       "      <td>43</td>\n",
       "      <td>43</td>\n",
       "    </tr>\n",
       "    <tr>\n",
       "      <th>4</th>\n",
       "      <td>Pandi</td>\n",
       "      <td>90</td>\n",
       "      <td>Laki-laki</td>\n",
       "      <td>45.0</td>\n",
       "      <td>45</td>\n",
       "      <td>45</td>\n",
       "    </tr>\n",
       "    <tr>\n",
       "      <th>5</th>\n",
       "      <td>Mikaela</td>\n",
       "      <td>83</td>\n",
       "      <td>Perempuan</td>\n",
       "      <td>41.5</td>\n",
       "      <td>41</td>\n",
       "      <td>41</td>\n",
       "    </tr>\n",
       "    <tr>\n",
       "      <th>6</th>\n",
       "      <td>Arsene</td>\n",
       "      <td>99</td>\n",
       "      <td>Perempuan</td>\n",
       "      <td>49.5</td>\n",
       "      <td>49</td>\n",
       "      <td>49</td>\n",
       "    </tr>\n",
       "  </tbody>\n",
       "</table>\n",
       "</div>"
      ],
      "text/plain": [
       "        Nama  Skor Jenis_kelamin  Skor_per_dua  Skor_per_dua_ints  Skor_lambda\n",
       "0      Riyan    98     Laki-laki          49.0                 49           49\n",
       "1    Aaditya    89     Perempuan          44.5                 44           44\n",
       "2  Krisandus    99     Perempuan          49.5                 49           49\n",
       "3     Vexana    87     Laki-laki          43.5                 43           43\n",
       "4      Pandi    90     Laki-laki          45.0                 45           45\n",
       "5    Mikaela    83     Perempuan          41.5                 41           41\n",
       "6     Arsene    99     Perempuan          49.5                 49           49"
      ]
     },
     "execution_count": 135,
     "metadata": {},
     "output_type": "execute_result"
    }
   ],
   "source": [
    "df1"
   ]
  },
  {
   "cell_type": "markdown",
   "metadata": {},
   "source": [
    "### 12.3. Menampilkan panjang karakter-karakter dalam sebuah kolom menggunakan fungsi len"
   ]
  },
  {
   "cell_type": "code",
   "execution_count": 132,
   "metadata": {},
   "outputs": [
    {
     "data": {
      "text/plain": [
       "0    5\n",
       "1    7\n",
       "2    9\n",
       "3    6\n",
       "4    5\n",
       "5    7\n",
       "6    6\n",
       "Name: Nama, dtype: int64"
      ]
     },
     "execution_count": 132,
     "metadata": {},
     "output_type": "execute_result"
    }
   ],
   "source": [
    "df1[\"Nama\"].apply(len)"
   ]
  },
  {
   "cell_type": "markdown",
   "metadata": {},
   "source": [
    "## 13. Fungsi map"
   ]
  },
  {
   "cell_type": "markdown",
   "metadata": {},
   "source": [
    "Sebagai contoh kita memiliki dataframe sebagai berikut. Kemudian misalnya kita ingin mengubah nilai kategorikal dengan tipe data string (kolom Gender) ke dalam bentuk biner (0 atau 1). 0 untuk Perempuan, dan 1 untuk Laki-laki"
   ]
  },
  {
   "cell_type": "code",
   "execution_count": 133,
   "metadata": {},
   "outputs": [
    {
     "data": {
      "text/html": [
       "<div>\n",
       "<style scoped>\n",
       "    .dataframe tbody tr th:only-of-type {\n",
       "        vertical-align: middle;\n",
       "    }\n",
       "\n",
       "    .dataframe tbody tr th {\n",
       "        vertical-align: top;\n",
       "    }\n",
       "\n",
       "    .dataframe thead th {\n",
       "        text-align: right;\n",
       "    }\n",
       "</style>\n",
       "<table border=\"1\" class=\"dataframe\">\n",
       "  <thead>\n",
       "    <tr style=\"text-align: right;\">\n",
       "      <th></th>\n",
       "      <th>Nama</th>\n",
       "      <th>Skor</th>\n",
       "      <th>Jenis_kelamin</th>\n",
       "      <th>Skor_per_dua</th>\n",
       "      <th>Skor_per_dua_ints</th>\n",
       "      <th>Skor_lambda</th>\n",
       "    </tr>\n",
       "  </thead>\n",
       "  <tbody>\n",
       "    <tr>\n",
       "      <th>0</th>\n",
       "      <td>Riyan</td>\n",
       "      <td>98</td>\n",
       "      <td>Laki-laki</td>\n",
       "      <td>49.0</td>\n",
       "      <td>49</td>\n",
       "      <td>49</td>\n",
       "    </tr>\n",
       "    <tr>\n",
       "      <th>1</th>\n",
       "      <td>Aaditya</td>\n",
       "      <td>89</td>\n",
       "      <td>Perempuan</td>\n",
       "      <td>44.5</td>\n",
       "      <td>44</td>\n",
       "      <td>44</td>\n",
       "    </tr>\n",
       "    <tr>\n",
       "      <th>2</th>\n",
       "      <td>Krisandus</td>\n",
       "      <td>99</td>\n",
       "      <td>Perempuan</td>\n",
       "      <td>49.5</td>\n",
       "      <td>49</td>\n",
       "      <td>49</td>\n",
       "    </tr>\n",
       "    <tr>\n",
       "      <th>3</th>\n",
       "      <td>Vexana</td>\n",
       "      <td>87</td>\n",
       "      <td>Laki-laki</td>\n",
       "      <td>43.5</td>\n",
       "      <td>43</td>\n",
       "      <td>43</td>\n",
       "    </tr>\n",
       "    <tr>\n",
       "      <th>4</th>\n",
       "      <td>Pandi</td>\n",
       "      <td>90</td>\n",
       "      <td>Laki-laki</td>\n",
       "      <td>45.0</td>\n",
       "      <td>45</td>\n",
       "      <td>45</td>\n",
       "    </tr>\n",
       "    <tr>\n",
       "      <th>5</th>\n",
       "      <td>Mikaela</td>\n",
       "      <td>83</td>\n",
       "      <td>Perempuan</td>\n",
       "      <td>41.5</td>\n",
       "      <td>41</td>\n",
       "      <td>41</td>\n",
       "    </tr>\n",
       "    <tr>\n",
       "      <th>6</th>\n",
       "      <td>Arsene</td>\n",
       "      <td>99</td>\n",
       "      <td>Perempuan</td>\n",
       "      <td>49.5</td>\n",
       "      <td>49</td>\n",
       "      <td>49</td>\n",
       "    </tr>\n",
       "  </tbody>\n",
       "</table>\n",
       "</div>"
      ],
      "text/plain": [
       "        Nama  Skor Jenis_kelamin  Skor_per_dua  Skor_per_dua_ints  Skor_lambda\n",
       "0      Riyan    98     Laki-laki          49.0                 49           49\n",
       "1    Aaditya    89     Perempuan          44.5                 44           44\n",
       "2  Krisandus    99     Perempuan          49.5                 49           49\n",
       "3     Vexana    87     Laki-laki          43.5                 43           43\n",
       "4      Pandi    90     Laki-laki          45.0                 45           45\n",
       "5    Mikaela    83     Perempuan          41.5                 41           41\n",
       "6     Arsene    99     Perempuan          49.5                 49           49"
      ]
     },
     "execution_count": 133,
     "metadata": {},
     "output_type": "execute_result"
    }
   ],
   "source": [
    "df1"
   ]
  },
  {
   "cell_type": "markdown",
   "metadata": {},
   "source": [
    "Sekarang ubah rekor gender tersebut ke dalam bentuk biner menggunakan fungsi map dan simpan hasil konversi tersebut ke dalam suatu kolom baru"
   ]
  },
  {
   "cell_type": "code",
   "execution_count": 136,
   "metadata": {},
   "outputs": [],
   "source": [
    "# Konversi ke dalam bentuk biner\n",
    "# Dan simpan rekor hasil konversi tersebut ke dalam suatu kolom baru (kolom Gender_biner)\n",
    "df1[\"Gender_biner\"] = df1[\"Jenis_kelamin\"].map({\"Laki-laki\": 1, \"Perempuan\": 0})"
   ]
  },
  {
   "cell_type": "code",
   "execution_count": 137,
   "metadata": {},
   "outputs": [
    {
     "data": {
      "text/html": [
       "<div>\n",
       "<style scoped>\n",
       "    .dataframe tbody tr th:only-of-type {\n",
       "        vertical-align: middle;\n",
       "    }\n",
       "\n",
       "    .dataframe tbody tr th {\n",
       "        vertical-align: top;\n",
       "    }\n",
       "\n",
       "    .dataframe thead th {\n",
       "        text-align: right;\n",
       "    }\n",
       "</style>\n",
       "<table border=\"1\" class=\"dataframe\">\n",
       "  <thead>\n",
       "    <tr style=\"text-align: right;\">\n",
       "      <th></th>\n",
       "      <th>Nama</th>\n",
       "      <th>Skor</th>\n",
       "      <th>Jenis_kelamin</th>\n",
       "      <th>Skor_per_dua</th>\n",
       "      <th>Skor_per_dua_ints</th>\n",
       "      <th>Skor_lambda</th>\n",
       "      <th>Gender_biner</th>\n",
       "    </tr>\n",
       "  </thead>\n",
       "  <tbody>\n",
       "    <tr>\n",
       "      <th>0</th>\n",
       "      <td>Riyan</td>\n",
       "      <td>98</td>\n",
       "      <td>Laki-laki</td>\n",
       "      <td>49.0</td>\n",
       "      <td>49</td>\n",
       "      <td>49</td>\n",
       "      <td>1</td>\n",
       "    </tr>\n",
       "    <tr>\n",
       "      <th>1</th>\n",
       "      <td>Aaditya</td>\n",
       "      <td>89</td>\n",
       "      <td>Perempuan</td>\n",
       "      <td>44.5</td>\n",
       "      <td>44</td>\n",
       "      <td>44</td>\n",
       "      <td>0</td>\n",
       "    </tr>\n",
       "    <tr>\n",
       "      <th>2</th>\n",
       "      <td>Krisandus</td>\n",
       "      <td>99</td>\n",
       "      <td>Perempuan</td>\n",
       "      <td>49.5</td>\n",
       "      <td>49</td>\n",
       "      <td>49</td>\n",
       "      <td>0</td>\n",
       "    </tr>\n",
       "    <tr>\n",
       "      <th>3</th>\n",
       "      <td>Vexana</td>\n",
       "      <td>87</td>\n",
       "      <td>Laki-laki</td>\n",
       "      <td>43.5</td>\n",
       "      <td>43</td>\n",
       "      <td>43</td>\n",
       "      <td>1</td>\n",
       "    </tr>\n",
       "    <tr>\n",
       "      <th>4</th>\n",
       "      <td>Pandi</td>\n",
       "      <td>90</td>\n",
       "      <td>Laki-laki</td>\n",
       "      <td>45.0</td>\n",
       "      <td>45</td>\n",
       "      <td>45</td>\n",
       "      <td>1</td>\n",
       "    </tr>\n",
       "    <tr>\n",
       "      <th>5</th>\n",
       "      <td>Mikaela</td>\n",
       "      <td>83</td>\n",
       "      <td>Perempuan</td>\n",
       "      <td>41.5</td>\n",
       "      <td>41</td>\n",
       "      <td>41</td>\n",
       "      <td>0</td>\n",
       "    </tr>\n",
       "    <tr>\n",
       "      <th>6</th>\n",
       "      <td>Arsene</td>\n",
       "      <td>99</td>\n",
       "      <td>Perempuan</td>\n",
       "      <td>49.5</td>\n",
       "      <td>49</td>\n",
       "      <td>49</td>\n",
       "      <td>0</td>\n",
       "    </tr>\n",
       "  </tbody>\n",
       "</table>\n",
       "</div>"
      ],
      "text/plain": [
       "        Nama  Skor Jenis_kelamin  Skor_per_dua  Skor_per_dua_ints  \\\n",
       "0      Riyan    98     Laki-laki          49.0                 49   \n",
       "1    Aaditya    89     Perempuan          44.5                 44   \n",
       "2  Krisandus    99     Perempuan          49.5                 49   \n",
       "3     Vexana    87     Laki-laki          43.5                 43   \n",
       "4      Pandi    90     Laki-laki          45.0                 45   \n",
       "5    Mikaela    83     Perempuan          41.5                 41   \n",
       "6     Arsene    99     Perempuan          49.5                 49   \n",
       "\n",
       "   Skor_lambda  Gender_biner  \n",
       "0           49             1  \n",
       "1           44             0  \n",
       "2           49             0  \n",
       "3           43             1  \n",
       "4           45             1  \n",
       "5           41             0  \n",
       "6           49             0  "
      ]
     },
     "execution_count": 137,
     "metadata": {},
     "output_type": "execute_result"
    }
   ],
   "source": [
    "df1"
   ]
  },
  {
   "cell_type": "markdown",
   "metadata": {},
   "source": [
    "Teknik ini biasa juga disebut dengan teknik <b>encoding</b>"
   ]
  },
  {
   "cell_type": "markdown",
   "metadata": {},
   "source": [
    "## 14. Menghapus kolom"
   ]
  },
  {
   "cell_type": "markdown",
   "metadata": {},
   "source": [
    "### 14.1. Menghapus satu kolom"
   ]
  },
  {
   "cell_type": "code",
   "execution_count": 138,
   "metadata": {},
   "outputs": [
    {
     "data": {
      "text/html": [
       "<div>\n",
       "<style scoped>\n",
       "    .dataframe tbody tr th:only-of-type {\n",
       "        vertical-align: middle;\n",
       "    }\n",
       "\n",
       "    .dataframe tbody tr th {\n",
       "        vertical-align: top;\n",
       "    }\n",
       "\n",
       "    .dataframe thead th {\n",
       "        text-align: right;\n",
       "    }\n",
       "</style>\n",
       "<table border=\"1\" class=\"dataframe\">\n",
       "  <thead>\n",
       "    <tr style=\"text-align: right;\">\n",
       "      <th></th>\n",
       "      <th>Nama</th>\n",
       "      <th>Skor</th>\n",
       "      <th>Jenis_kelamin</th>\n",
       "      <th>Skor_per_dua</th>\n",
       "      <th>Skor_per_dua_ints</th>\n",
       "      <th>Skor_lambda</th>\n",
       "      <th>Gender_biner</th>\n",
       "    </tr>\n",
       "  </thead>\n",
       "  <tbody>\n",
       "    <tr>\n",
       "      <th>0</th>\n",
       "      <td>Riyan</td>\n",
       "      <td>98</td>\n",
       "      <td>Laki-laki</td>\n",
       "      <td>49.0</td>\n",
       "      <td>49</td>\n",
       "      <td>49</td>\n",
       "      <td>1</td>\n",
       "    </tr>\n",
       "    <tr>\n",
       "      <th>1</th>\n",
       "      <td>Aaditya</td>\n",
       "      <td>89</td>\n",
       "      <td>Perempuan</td>\n",
       "      <td>44.5</td>\n",
       "      <td>44</td>\n",
       "      <td>44</td>\n",
       "      <td>0</td>\n",
       "    </tr>\n",
       "    <tr>\n",
       "      <th>2</th>\n",
       "      <td>Krisandus</td>\n",
       "      <td>99</td>\n",
       "      <td>Perempuan</td>\n",
       "      <td>49.5</td>\n",
       "      <td>49</td>\n",
       "      <td>49</td>\n",
       "      <td>0</td>\n",
       "    </tr>\n",
       "    <tr>\n",
       "      <th>3</th>\n",
       "      <td>Vexana</td>\n",
       "      <td>87</td>\n",
       "      <td>Laki-laki</td>\n",
       "      <td>43.5</td>\n",
       "      <td>43</td>\n",
       "      <td>43</td>\n",
       "      <td>1</td>\n",
       "    </tr>\n",
       "    <tr>\n",
       "      <th>4</th>\n",
       "      <td>Pandi</td>\n",
       "      <td>90</td>\n",
       "      <td>Laki-laki</td>\n",
       "      <td>45.0</td>\n",
       "      <td>45</td>\n",
       "      <td>45</td>\n",
       "      <td>1</td>\n",
       "    </tr>\n",
       "    <tr>\n",
       "      <th>5</th>\n",
       "      <td>Mikaela</td>\n",
       "      <td>83</td>\n",
       "      <td>Perempuan</td>\n",
       "      <td>41.5</td>\n",
       "      <td>41</td>\n",
       "      <td>41</td>\n",
       "      <td>0</td>\n",
       "    </tr>\n",
       "    <tr>\n",
       "      <th>6</th>\n",
       "      <td>Arsene</td>\n",
       "      <td>99</td>\n",
       "      <td>Perempuan</td>\n",
       "      <td>49.5</td>\n",
       "      <td>49</td>\n",
       "      <td>49</td>\n",
       "      <td>0</td>\n",
       "    </tr>\n",
       "  </tbody>\n",
       "</table>\n",
       "</div>"
      ],
      "text/plain": [
       "        Nama  Skor Jenis_kelamin  Skor_per_dua  Skor_per_dua_ints  \\\n",
       "0      Riyan    98     Laki-laki          49.0                 49   \n",
       "1    Aaditya    89     Perempuan          44.5                 44   \n",
       "2  Krisandus    99     Perempuan          49.5                 49   \n",
       "3     Vexana    87     Laki-laki          43.5                 43   \n",
       "4      Pandi    90     Laki-laki          45.0                 45   \n",
       "5    Mikaela    83     Perempuan          41.5                 41   \n",
       "6     Arsene    99     Perempuan          49.5                 49   \n",
       "\n",
       "   Skor_lambda  Gender_biner  \n",
       "0           49             1  \n",
       "1           44             0  \n",
       "2           49             0  \n",
       "3           43             1  \n",
       "4           45             1  \n",
       "5           41             0  \n",
       "6           49             0  "
      ]
     },
     "execution_count": 138,
     "metadata": {},
     "output_type": "execute_result"
    }
   ],
   "source": [
    "# Tampilkan dataset\n",
    "df1"
   ]
  },
  {
   "cell_type": "markdown",
   "metadata": {},
   "source": [
    "Menghapus sebuah kolom menggunakan argumen axis. Gunakan axis=1 untuk menghapus kolom dan axis=0 untuk menghapus baris"
   ]
  },
  {
   "cell_type": "code",
   "execution_count": 139,
   "metadata": {},
   "outputs": [
    {
     "data": {
      "text/html": [
       "<div>\n",
       "<style scoped>\n",
       "    .dataframe tbody tr th:only-of-type {\n",
       "        vertical-align: middle;\n",
       "    }\n",
       "\n",
       "    .dataframe tbody tr th {\n",
       "        vertical-align: top;\n",
       "    }\n",
       "\n",
       "    .dataframe thead th {\n",
       "        text-align: right;\n",
       "    }\n",
       "</style>\n",
       "<table border=\"1\" class=\"dataframe\">\n",
       "  <thead>\n",
       "    <tr style=\"text-align: right;\">\n",
       "      <th></th>\n",
       "      <th>Nama</th>\n",
       "      <th>Skor</th>\n",
       "      <th>Jenis_kelamin</th>\n",
       "      <th>Skor_per_dua</th>\n",
       "      <th>Skor_per_dua_ints</th>\n",
       "      <th>Skor_lambda</th>\n",
       "    </tr>\n",
       "  </thead>\n",
       "  <tbody>\n",
       "    <tr>\n",
       "      <th>0</th>\n",
       "      <td>Riyan</td>\n",
       "      <td>98</td>\n",
       "      <td>Laki-laki</td>\n",
       "      <td>49.0</td>\n",
       "      <td>49</td>\n",
       "      <td>49</td>\n",
       "    </tr>\n",
       "    <tr>\n",
       "      <th>1</th>\n",
       "      <td>Aaditya</td>\n",
       "      <td>89</td>\n",
       "      <td>Perempuan</td>\n",
       "      <td>44.5</td>\n",
       "      <td>44</td>\n",
       "      <td>44</td>\n",
       "    </tr>\n",
       "    <tr>\n",
       "      <th>2</th>\n",
       "      <td>Krisandus</td>\n",
       "      <td>99</td>\n",
       "      <td>Perempuan</td>\n",
       "      <td>49.5</td>\n",
       "      <td>49</td>\n",
       "      <td>49</td>\n",
       "    </tr>\n",
       "    <tr>\n",
       "      <th>3</th>\n",
       "      <td>Vexana</td>\n",
       "      <td>87</td>\n",
       "      <td>Laki-laki</td>\n",
       "      <td>43.5</td>\n",
       "      <td>43</td>\n",
       "      <td>43</td>\n",
       "    </tr>\n",
       "    <tr>\n",
       "      <th>4</th>\n",
       "      <td>Pandi</td>\n",
       "      <td>90</td>\n",
       "      <td>Laki-laki</td>\n",
       "      <td>45.0</td>\n",
       "      <td>45</td>\n",
       "      <td>45</td>\n",
       "    </tr>\n",
       "    <tr>\n",
       "      <th>5</th>\n",
       "      <td>Mikaela</td>\n",
       "      <td>83</td>\n",
       "      <td>Perempuan</td>\n",
       "      <td>41.5</td>\n",
       "      <td>41</td>\n",
       "      <td>41</td>\n",
       "    </tr>\n",
       "    <tr>\n",
       "      <th>6</th>\n",
       "      <td>Arsene</td>\n",
       "      <td>99</td>\n",
       "      <td>Perempuan</td>\n",
       "      <td>49.5</td>\n",
       "      <td>49</td>\n",
       "      <td>49</td>\n",
       "    </tr>\n",
       "  </tbody>\n",
       "</table>\n",
       "</div>"
      ],
      "text/plain": [
       "        Nama  Skor Jenis_kelamin  Skor_per_dua  Skor_per_dua_ints  Skor_lambda\n",
       "0      Riyan    98     Laki-laki          49.0                 49           49\n",
       "1    Aaditya    89     Perempuan          44.5                 44           44\n",
       "2  Krisandus    99     Perempuan          49.5                 49           49\n",
       "3     Vexana    87     Laki-laki          43.5                 43           43\n",
       "4      Pandi    90     Laki-laki          45.0                 45           45\n",
       "5    Mikaela    83     Perempuan          41.5                 41           41\n",
       "6     Arsene    99     Perempuan          49.5                 49           49"
      ]
     },
     "execution_count": 139,
     "metadata": {},
     "output_type": "execute_result"
    }
   ],
   "source": [
    "# Menghapus kolom menggunakan argumen axis\n",
    "# axis 1 = kolom\n",
    "# axis 0 = baris\n",
    "df1.drop(\"Gender_biner\", axis=1)"
   ]
  },
  {
   "cell_type": "markdown",
   "metadata": {},
   "source": [
    "### 14.2. Menghapus beberapa kolom"
   ]
  },
  {
   "cell_type": "code",
   "execution_count": 140,
   "metadata": {},
   "outputs": [
    {
     "data": {
      "text/html": [
       "<div>\n",
       "<style scoped>\n",
       "    .dataframe tbody tr th:only-of-type {\n",
       "        vertical-align: middle;\n",
       "    }\n",
       "\n",
       "    .dataframe tbody tr th {\n",
       "        vertical-align: top;\n",
       "    }\n",
       "\n",
       "    .dataframe thead th {\n",
       "        text-align: right;\n",
       "    }\n",
       "</style>\n",
       "<table border=\"1\" class=\"dataframe\">\n",
       "  <thead>\n",
       "    <tr style=\"text-align: right;\">\n",
       "      <th></th>\n",
       "      <th>Nama</th>\n",
       "      <th>Skor</th>\n",
       "      <th>Jenis_kelamin</th>\n",
       "      <th>Skor_per_dua</th>\n",
       "      <th>Skor_per_dua_ints</th>\n",
       "    </tr>\n",
       "  </thead>\n",
       "  <tbody>\n",
       "    <tr>\n",
       "      <th>0</th>\n",
       "      <td>Riyan</td>\n",
       "      <td>98</td>\n",
       "      <td>Laki-laki</td>\n",
       "      <td>49.0</td>\n",
       "      <td>49</td>\n",
       "    </tr>\n",
       "    <tr>\n",
       "      <th>1</th>\n",
       "      <td>Aaditya</td>\n",
       "      <td>89</td>\n",
       "      <td>Perempuan</td>\n",
       "      <td>44.5</td>\n",
       "      <td>44</td>\n",
       "    </tr>\n",
       "    <tr>\n",
       "      <th>2</th>\n",
       "      <td>Krisandus</td>\n",
       "      <td>99</td>\n",
       "      <td>Perempuan</td>\n",
       "      <td>49.5</td>\n",
       "      <td>49</td>\n",
       "    </tr>\n",
       "    <tr>\n",
       "      <th>3</th>\n",
       "      <td>Vexana</td>\n",
       "      <td>87</td>\n",
       "      <td>Laki-laki</td>\n",
       "      <td>43.5</td>\n",
       "      <td>43</td>\n",
       "    </tr>\n",
       "    <tr>\n",
       "      <th>4</th>\n",
       "      <td>Pandi</td>\n",
       "      <td>90</td>\n",
       "      <td>Laki-laki</td>\n",
       "      <td>45.0</td>\n",
       "      <td>45</td>\n",
       "    </tr>\n",
       "    <tr>\n",
       "      <th>5</th>\n",
       "      <td>Mikaela</td>\n",
       "      <td>83</td>\n",
       "      <td>Perempuan</td>\n",
       "      <td>41.5</td>\n",
       "      <td>41</td>\n",
       "    </tr>\n",
       "    <tr>\n",
       "      <th>6</th>\n",
       "      <td>Arsene</td>\n",
       "      <td>99</td>\n",
       "      <td>Perempuan</td>\n",
       "      <td>49.5</td>\n",
       "      <td>49</td>\n",
       "    </tr>\n",
       "  </tbody>\n",
       "</table>\n",
       "</div>"
      ],
      "text/plain": [
       "        Nama  Skor Jenis_kelamin  Skor_per_dua  Skor_per_dua_ints\n",
       "0      Riyan    98     Laki-laki          49.0                 49\n",
       "1    Aaditya    89     Perempuan          44.5                 44\n",
       "2  Krisandus    99     Perempuan          49.5                 49\n",
       "3     Vexana    87     Laki-laki          43.5                 43\n",
       "4      Pandi    90     Laki-laki          45.0                 45\n",
       "5    Mikaela    83     Perempuan          41.5                 41\n",
       "6     Arsene    99     Perempuan          49.5                 49"
      ]
     },
     "execution_count": 140,
     "metadata": {},
     "output_type": "execute_result"
    }
   ],
   "source": [
    "df1.drop(['Skor_lambda', 'Gender_biner'], axis=1)\n",
    "\n",
    "# Untuk menyimpan dataset yang telah diproses ke dataframe baru, gunakan argumen inplace=True\n",
    "# df1.drop(['Marks_lambda', 'Gender_binary'], axis=1, inplace=True)"
   ]
  },
  {
   "cell_type": "markdown",
   "metadata": {},
   "source": [
    "## 15. Menampilkan nama kolom"
   ]
  },
  {
   "cell_type": "code",
   "execution_count": 141,
   "metadata": {},
   "outputs": [
    {
     "data": {
      "text/plain": [
       "Index(['Nama', 'Skor', 'Jenis_kelamin', 'Skor_per_dua', 'Skor_per_dua_ints',\n",
       "       'Skor_lambda', 'Gender_biner'],\n",
       "      dtype='object')"
      ]
     },
     "execution_count": 141,
     "metadata": {},
     "output_type": "execute_result"
    }
   ],
   "source": [
    "df1.columns"
   ]
  },
  {
   "cell_type": "code",
   "execution_count": 142,
   "metadata": {},
   "outputs": [
    {
     "data": {
      "text/plain": [
       "RangeIndex(start=0, stop=7, step=1)"
      ]
     },
     "execution_count": 142,
     "metadata": {},
     "output_type": "execute_result"
    }
   ],
   "source": [
    "df1.index"
   ]
  },
  {
   "cell_type": "markdown",
   "metadata": {},
   "source": [
    "## 16. Mengurutkan dataset berdasarkan nilai (kolom Skor)"
   ]
  },
  {
   "cell_type": "code",
   "execution_count": 143,
   "metadata": {},
   "outputs": [
    {
     "data": {
      "text/html": [
       "<div>\n",
       "<style scoped>\n",
       "    .dataframe tbody tr th:only-of-type {\n",
       "        vertical-align: middle;\n",
       "    }\n",
       "\n",
       "    .dataframe tbody tr th {\n",
       "        vertical-align: top;\n",
       "    }\n",
       "\n",
       "    .dataframe thead th {\n",
       "        text-align: right;\n",
       "    }\n",
       "</style>\n",
       "<table border=\"1\" class=\"dataframe\">\n",
       "  <thead>\n",
       "    <tr style=\"text-align: right;\">\n",
       "      <th></th>\n",
       "      <th>Nama</th>\n",
       "      <th>Skor</th>\n",
       "      <th>Jenis_kelamin</th>\n",
       "      <th>Skor_per_dua</th>\n",
       "      <th>Skor_per_dua_ints</th>\n",
       "      <th>Skor_lambda</th>\n",
       "      <th>Gender_biner</th>\n",
       "    </tr>\n",
       "  </thead>\n",
       "  <tbody>\n",
       "    <tr>\n",
       "      <th>0</th>\n",
       "      <td>Riyan</td>\n",
       "      <td>98</td>\n",
       "      <td>Laki-laki</td>\n",
       "      <td>49.0</td>\n",
       "      <td>49</td>\n",
       "      <td>49</td>\n",
       "      <td>1</td>\n",
       "    </tr>\n",
       "    <tr>\n",
       "      <th>1</th>\n",
       "      <td>Aaditya</td>\n",
       "      <td>89</td>\n",
       "      <td>Perempuan</td>\n",
       "      <td>44.5</td>\n",
       "      <td>44</td>\n",
       "      <td>44</td>\n",
       "      <td>0</td>\n",
       "    </tr>\n",
       "    <tr>\n",
       "      <th>2</th>\n",
       "      <td>Krisandus</td>\n",
       "      <td>99</td>\n",
       "      <td>Perempuan</td>\n",
       "      <td>49.5</td>\n",
       "      <td>49</td>\n",
       "      <td>49</td>\n",
       "      <td>0</td>\n",
       "    </tr>\n",
       "    <tr>\n",
       "      <th>3</th>\n",
       "      <td>Vexana</td>\n",
       "      <td>87</td>\n",
       "      <td>Laki-laki</td>\n",
       "      <td>43.5</td>\n",
       "      <td>43</td>\n",
       "      <td>43</td>\n",
       "      <td>1</td>\n",
       "    </tr>\n",
       "    <tr>\n",
       "      <th>4</th>\n",
       "      <td>Pandi</td>\n",
       "      <td>90</td>\n",
       "      <td>Laki-laki</td>\n",
       "      <td>45.0</td>\n",
       "      <td>45</td>\n",
       "      <td>45</td>\n",
       "      <td>1</td>\n",
       "    </tr>\n",
       "    <tr>\n",
       "      <th>5</th>\n",
       "      <td>Mikaela</td>\n",
       "      <td>83</td>\n",
       "      <td>Perempuan</td>\n",
       "      <td>41.5</td>\n",
       "      <td>41</td>\n",
       "      <td>41</td>\n",
       "      <td>0</td>\n",
       "    </tr>\n",
       "    <tr>\n",
       "      <th>6</th>\n",
       "      <td>Arsene</td>\n",
       "      <td>99</td>\n",
       "      <td>Perempuan</td>\n",
       "      <td>49.5</td>\n",
       "      <td>49</td>\n",
       "      <td>49</td>\n",
       "      <td>0</td>\n",
       "    </tr>\n",
       "  </tbody>\n",
       "</table>\n",
       "</div>"
      ],
      "text/plain": [
       "        Nama  Skor Jenis_kelamin  Skor_per_dua  Skor_per_dua_ints  \\\n",
       "0      Riyan    98     Laki-laki          49.0                 49   \n",
       "1    Aaditya    89     Perempuan          44.5                 44   \n",
       "2  Krisandus    99     Perempuan          49.5                 49   \n",
       "3     Vexana    87     Laki-laki          43.5                 43   \n",
       "4      Pandi    90     Laki-laki          45.0                 45   \n",
       "5    Mikaela    83     Perempuan          41.5                 41   \n",
       "6     Arsene    99     Perempuan          49.5                 49   \n",
       "\n",
       "   Skor_lambda  Gender_biner  \n",
       "0           49             1  \n",
       "1           44             0  \n",
       "2           49             0  \n",
       "3           43             1  \n",
       "4           45             1  \n",
       "5           41             0  \n",
       "6           49             0  "
      ]
     },
     "execution_count": 143,
     "metadata": {},
     "output_type": "execute_result"
    }
   ],
   "source": [
    "df1"
   ]
  },
  {
   "cell_type": "code",
   "execution_count": 145,
   "metadata": {},
   "outputs": [
    {
     "data": {
      "text/html": [
       "<div>\n",
       "<style scoped>\n",
       "    .dataframe tbody tr th:only-of-type {\n",
       "        vertical-align: middle;\n",
       "    }\n",
       "\n",
       "    .dataframe tbody tr th {\n",
       "        vertical-align: top;\n",
       "    }\n",
       "\n",
       "    .dataframe thead th {\n",
       "        text-align: right;\n",
       "    }\n",
       "</style>\n",
       "<table border=\"1\" class=\"dataframe\">\n",
       "  <thead>\n",
       "    <tr style=\"text-align: right;\">\n",
       "      <th></th>\n",
       "      <th>Nama</th>\n",
       "      <th>Skor</th>\n",
       "      <th>Jenis_kelamin</th>\n",
       "      <th>Skor_per_dua</th>\n",
       "      <th>Skor_per_dua_ints</th>\n",
       "      <th>Skor_lambda</th>\n",
       "      <th>Gender_biner</th>\n",
       "    </tr>\n",
       "  </thead>\n",
       "  <tbody>\n",
       "    <tr>\n",
       "      <th>2</th>\n",
       "      <td>Krisandus</td>\n",
       "      <td>99</td>\n",
       "      <td>Perempuan</td>\n",
       "      <td>49.5</td>\n",
       "      <td>49</td>\n",
       "      <td>49</td>\n",
       "      <td>0</td>\n",
       "    </tr>\n",
       "    <tr>\n",
       "      <th>6</th>\n",
       "      <td>Arsene</td>\n",
       "      <td>99</td>\n",
       "      <td>Perempuan</td>\n",
       "      <td>49.5</td>\n",
       "      <td>49</td>\n",
       "      <td>49</td>\n",
       "      <td>0</td>\n",
       "    </tr>\n",
       "    <tr>\n",
       "      <th>0</th>\n",
       "      <td>Riyan</td>\n",
       "      <td>98</td>\n",
       "      <td>Laki-laki</td>\n",
       "      <td>49.0</td>\n",
       "      <td>49</td>\n",
       "      <td>49</td>\n",
       "      <td>1</td>\n",
       "    </tr>\n",
       "    <tr>\n",
       "      <th>4</th>\n",
       "      <td>Pandi</td>\n",
       "      <td>90</td>\n",
       "      <td>Laki-laki</td>\n",
       "      <td>45.0</td>\n",
       "      <td>45</td>\n",
       "      <td>45</td>\n",
       "      <td>1</td>\n",
       "    </tr>\n",
       "    <tr>\n",
       "      <th>1</th>\n",
       "      <td>Aaditya</td>\n",
       "      <td>89</td>\n",
       "      <td>Perempuan</td>\n",
       "      <td>44.5</td>\n",
       "      <td>44</td>\n",
       "      <td>44</td>\n",
       "      <td>0</td>\n",
       "    </tr>\n",
       "    <tr>\n",
       "      <th>3</th>\n",
       "      <td>Vexana</td>\n",
       "      <td>87</td>\n",
       "      <td>Laki-laki</td>\n",
       "      <td>43.5</td>\n",
       "      <td>43</td>\n",
       "      <td>43</td>\n",
       "      <td>1</td>\n",
       "    </tr>\n",
       "    <tr>\n",
       "      <th>5</th>\n",
       "      <td>Mikaela</td>\n",
       "      <td>83</td>\n",
       "      <td>Perempuan</td>\n",
       "      <td>41.5</td>\n",
       "      <td>41</td>\n",
       "      <td>41</td>\n",
       "      <td>0</td>\n",
       "    </tr>\n",
       "  </tbody>\n",
       "</table>\n",
       "</div>"
      ],
      "text/plain": [
       "        Nama  Skor Jenis_kelamin  Skor_per_dua  Skor_per_dua_ints  \\\n",
       "2  Krisandus    99     Perempuan          49.5                 49   \n",
       "6     Arsene    99     Perempuan          49.5                 49   \n",
       "0      Riyan    98     Laki-laki          49.0                 49   \n",
       "4      Pandi    90     Laki-laki          45.0                 45   \n",
       "1    Aaditya    89     Perempuan          44.5                 44   \n",
       "3     Vexana    87     Laki-laki          43.5                 43   \n",
       "5    Mikaela    83     Perempuan          41.5                 41   \n",
       "\n",
       "   Skor_lambda  Gender_biner  \n",
       "2           49             0  \n",
       "6           49             0  \n",
       "0           49             1  \n",
       "4           45             1  \n",
       "1           44             0  \n",
       "3           43             1  \n",
       "5           41             0  "
      ]
     },
     "execution_count": 145,
     "metadata": {},
     "output_type": "execute_result"
    }
   ],
   "source": [
    "# Nilai tinggi ke rendah\n",
    "df1.sort_values(by=\"Skor\", ascending=False)"
   ]
  },
  {
   "cell_type": "code",
   "execution_count": 152,
   "metadata": {},
   "outputs": [
    {
     "data": {
      "text/html": [
       "<div>\n",
       "<style scoped>\n",
       "    .dataframe tbody tr th:only-of-type {\n",
       "        vertical-align: middle;\n",
       "    }\n",
       "\n",
       "    .dataframe tbody tr th {\n",
       "        vertical-align: top;\n",
       "    }\n",
       "\n",
       "    .dataframe thead th {\n",
       "        text-align: right;\n",
       "    }\n",
       "</style>\n",
       "<table border=\"1\" class=\"dataframe\">\n",
       "  <thead>\n",
       "    <tr style=\"text-align: right;\">\n",
       "      <th></th>\n",
       "      <th>Nama</th>\n",
       "      <th>Skor</th>\n",
       "      <th>Jenis_kelamin</th>\n",
       "      <th>Skor_per_dua</th>\n",
       "      <th>Skor_per_dua_ints</th>\n",
       "      <th>Skor_lambda</th>\n",
       "      <th>Gender_biner</th>\n",
       "    </tr>\n",
       "  </thead>\n",
       "  <tbody>\n",
       "    <tr>\n",
       "      <th>2</th>\n",
       "      <td>Krisandus</td>\n",
       "      <td>99</td>\n",
       "      <td>Perempuan</td>\n",
       "      <td>49.5</td>\n",
       "      <td>49</td>\n",
       "      <td>49</td>\n",
       "      <td>0</td>\n",
       "    </tr>\n",
       "    <tr>\n",
       "      <th>6</th>\n",
       "      <td>Arsene</td>\n",
       "      <td>99</td>\n",
       "      <td>Perempuan</td>\n",
       "      <td>49.5</td>\n",
       "      <td>49</td>\n",
       "      <td>49</td>\n",
       "      <td>0</td>\n",
       "    </tr>\n",
       "    <tr>\n",
       "      <th>0</th>\n",
       "      <td>Riyan</td>\n",
       "      <td>98</td>\n",
       "      <td>Laki-laki</td>\n",
       "      <td>49.0</td>\n",
       "      <td>49</td>\n",
       "      <td>49</td>\n",
       "      <td>1</td>\n",
       "    </tr>\n",
       "    <tr>\n",
       "      <th>4</th>\n",
       "      <td>Pandi</td>\n",
       "      <td>90</td>\n",
       "      <td>Laki-laki</td>\n",
       "      <td>45.0</td>\n",
       "      <td>45</td>\n",
       "      <td>45</td>\n",
       "      <td>1</td>\n",
       "    </tr>\n",
       "    <tr>\n",
       "      <th>1</th>\n",
       "      <td>Aaditya</td>\n",
       "      <td>89</td>\n",
       "      <td>Perempuan</td>\n",
       "      <td>44.5</td>\n",
       "      <td>44</td>\n",
       "      <td>44</td>\n",
       "      <td>0</td>\n",
       "    </tr>\n",
       "    <tr>\n",
       "      <th>3</th>\n",
       "      <td>Vexana</td>\n",
       "      <td>87</td>\n",
       "      <td>Laki-laki</td>\n",
       "      <td>43.5</td>\n",
       "      <td>43</td>\n",
       "      <td>43</td>\n",
       "      <td>1</td>\n",
       "    </tr>\n",
       "    <tr>\n",
       "      <th>5</th>\n",
       "      <td>Mikaela</td>\n",
       "      <td>83</td>\n",
       "      <td>Perempuan</td>\n",
       "      <td>41.5</td>\n",
       "      <td>41</td>\n",
       "      <td>41</td>\n",
       "      <td>0</td>\n",
       "    </tr>\n",
       "  </tbody>\n",
       "</table>\n",
       "</div>"
      ],
      "text/plain": [
       "        Nama  Skor Jenis_kelamin  Skor_per_dua  Skor_per_dua_ints  \\\n",
       "2  Krisandus    99     Perempuan          49.5                 49   \n",
       "6     Arsene    99     Perempuan          49.5                 49   \n",
       "0      Riyan    98     Laki-laki          49.0                 49   \n",
       "4      Pandi    90     Laki-laki          45.0                 45   \n",
       "1    Aaditya    89     Perempuan          44.5                 44   \n",
       "3     Vexana    87     Laki-laki          43.5                 43   \n",
       "5    Mikaela    83     Perempuan          41.5                 41   \n",
       "\n",
       "   Skor_lambda  Gender_biner  \n",
       "2           49             0  \n",
       "6           49             0  \n",
       "0           49             1  \n",
       "4           45             1  \n",
       "1           44             0  \n",
       "3           43             1  \n",
       "5           41             0  "
      ]
     },
     "execution_count": 152,
     "metadata": {},
     "output_type": "execute_result"
    }
   ],
   "source": [
    "# Mengurutkan berdasarkan beberapa kolom\n",
    "df1.sort_values(by=['Skor', 'Jenis_kelamin'], ascending=False)"
   ]
  },
  {
   "cell_type": "markdown",
   "metadata": {},
   "source": [
    "## 17.  Nama dan Nilai dari siswa perempuan"
   ]
  },
  {
   "cell_type": "code",
   "execution_count": 149,
   "metadata": {},
   "outputs": [
    {
     "data": {
      "text/html": [
       "<div>\n",
       "<style scoped>\n",
       "    .dataframe tbody tr th:only-of-type {\n",
       "        vertical-align: middle;\n",
       "    }\n",
       "\n",
       "    .dataframe tbody tr th {\n",
       "        vertical-align: top;\n",
       "    }\n",
       "\n",
       "    .dataframe thead th {\n",
       "        text-align: right;\n",
       "    }\n",
       "</style>\n",
       "<table border=\"1\" class=\"dataframe\">\n",
       "  <thead>\n",
       "    <tr style=\"text-align: right;\">\n",
       "      <th></th>\n",
       "      <th>Nama</th>\n",
       "      <th>Skor</th>\n",
       "      <th>Jenis_kelamin</th>\n",
       "      <th>Skor_per_dua</th>\n",
       "      <th>Skor_per_dua_ints</th>\n",
       "      <th>Skor_lambda</th>\n",
       "      <th>Gender_biner</th>\n",
       "    </tr>\n",
       "  </thead>\n",
       "  <tbody>\n",
       "    <tr>\n",
       "      <th>0</th>\n",
       "      <td>Riyan</td>\n",
       "      <td>98</td>\n",
       "      <td>Laki-laki</td>\n",
       "      <td>49.0</td>\n",
       "      <td>49</td>\n",
       "      <td>49</td>\n",
       "      <td>1</td>\n",
       "    </tr>\n",
       "    <tr>\n",
       "      <th>1</th>\n",
       "      <td>Aaditya</td>\n",
       "      <td>89</td>\n",
       "      <td>Perempuan</td>\n",
       "      <td>44.5</td>\n",
       "      <td>44</td>\n",
       "      <td>44</td>\n",
       "      <td>0</td>\n",
       "    </tr>\n",
       "    <tr>\n",
       "      <th>2</th>\n",
       "      <td>Krisandus</td>\n",
       "      <td>99</td>\n",
       "      <td>Perempuan</td>\n",
       "      <td>49.5</td>\n",
       "      <td>49</td>\n",
       "      <td>49</td>\n",
       "      <td>0</td>\n",
       "    </tr>\n",
       "    <tr>\n",
       "      <th>3</th>\n",
       "      <td>Vexana</td>\n",
       "      <td>87</td>\n",
       "      <td>Laki-laki</td>\n",
       "      <td>43.5</td>\n",
       "      <td>43</td>\n",
       "      <td>43</td>\n",
       "      <td>1</td>\n",
       "    </tr>\n",
       "    <tr>\n",
       "      <th>4</th>\n",
       "      <td>Pandi</td>\n",
       "      <td>90</td>\n",
       "      <td>Laki-laki</td>\n",
       "      <td>45.0</td>\n",
       "      <td>45</td>\n",
       "      <td>45</td>\n",
       "      <td>1</td>\n",
       "    </tr>\n",
       "    <tr>\n",
       "      <th>5</th>\n",
       "      <td>Mikaela</td>\n",
       "      <td>83</td>\n",
       "      <td>Perempuan</td>\n",
       "      <td>41.5</td>\n",
       "      <td>41</td>\n",
       "      <td>41</td>\n",
       "      <td>0</td>\n",
       "    </tr>\n",
       "    <tr>\n",
       "      <th>6</th>\n",
       "      <td>Arsene</td>\n",
       "      <td>99</td>\n",
       "      <td>Perempuan</td>\n",
       "      <td>49.5</td>\n",
       "      <td>49</td>\n",
       "      <td>49</td>\n",
       "      <td>0</td>\n",
       "    </tr>\n",
       "  </tbody>\n",
       "</table>\n",
       "</div>"
      ],
      "text/plain": [
       "        Nama  Skor Jenis_kelamin  Skor_per_dua  Skor_per_dua_ints  \\\n",
       "0      Riyan    98     Laki-laki          49.0                 49   \n",
       "1    Aaditya    89     Perempuan          44.5                 44   \n",
       "2  Krisandus    99     Perempuan          49.5                 49   \n",
       "3     Vexana    87     Laki-laki          43.5                 43   \n",
       "4      Pandi    90     Laki-laki          45.0                 45   \n",
       "5    Mikaela    83     Perempuan          41.5                 41   \n",
       "6     Arsene    99     Perempuan          49.5                 49   \n",
       "\n",
       "   Skor_lambda  Gender_biner  \n",
       "0           49             1  \n",
       "1           44             0  \n",
       "2           49             0  \n",
       "3           43             1  \n",
       "4           45             1  \n",
       "5           41             0  \n",
       "6           49             0  "
      ]
     },
     "execution_count": 149,
     "metadata": {},
     "output_type": "execute_result"
    }
   ],
   "source": [
    "# Tampilkan dataframe\n",
    "df1"
   ]
  },
  {
   "cell_type": "code",
   "execution_count": 150,
   "metadata": {},
   "outputs": [
    {
     "data": {
      "text/html": [
       "<div>\n",
       "<style scoped>\n",
       "    .dataframe tbody tr th:only-of-type {\n",
       "        vertical-align: middle;\n",
       "    }\n",
       "\n",
       "    .dataframe tbody tr th {\n",
       "        vertical-align: top;\n",
       "    }\n",
       "\n",
       "    .dataframe thead th {\n",
       "        text-align: right;\n",
       "    }\n",
       "</style>\n",
       "<table border=\"1\" class=\"dataframe\">\n",
       "  <thead>\n",
       "    <tr style=\"text-align: right;\">\n",
       "      <th></th>\n",
       "      <th>Nama</th>\n",
       "      <th>Skor</th>\n",
       "    </tr>\n",
       "  </thead>\n",
       "  <tbody>\n",
       "    <tr>\n",
       "      <th>1</th>\n",
       "      <td>Aaditya</td>\n",
       "      <td>89</td>\n",
       "    </tr>\n",
       "    <tr>\n",
       "      <th>2</th>\n",
       "      <td>Krisandus</td>\n",
       "      <td>99</td>\n",
       "    </tr>\n",
       "    <tr>\n",
       "      <th>5</th>\n",
       "      <td>Mikaela</td>\n",
       "      <td>83</td>\n",
       "    </tr>\n",
       "    <tr>\n",
       "      <th>6</th>\n",
       "      <td>Arsene</td>\n",
       "      <td>99</td>\n",
       "    </tr>\n",
       "  </tbody>\n",
       "</table>\n",
       "</div>"
      ],
      "text/plain": [
       "        Nama  Skor\n",
       "1    Aaditya    89\n",
       "2  Krisandus    99\n",
       "5    Mikaela    83\n",
       "6     Arsene    99"
      ]
     },
     "execution_count": 150,
     "metadata": {},
     "output_type": "execute_result"
    }
   ],
   "source": [
    "df1[df1['Jenis_kelamin'] == 'Perempuan'][['Nama', 'Skor']]"
   ]
  },
  {
   "cell_type": "code",
   "execution_count": 151,
   "metadata": {},
   "outputs": [
    {
     "data": {
      "text/html": [
       "<div>\n",
       "<style scoped>\n",
       "    .dataframe tbody tr th:only-of-type {\n",
       "        vertical-align: middle;\n",
       "    }\n",
       "\n",
       "    .dataframe tbody tr th {\n",
       "        vertical-align: top;\n",
       "    }\n",
       "\n",
       "    .dataframe thead th {\n",
       "        text-align: right;\n",
       "    }\n",
       "</style>\n",
       "<table border=\"1\" class=\"dataframe\">\n",
       "  <thead>\n",
       "    <tr style=\"text-align: right;\">\n",
       "      <th></th>\n",
       "      <th>Nama</th>\n",
       "      <th>Skor</th>\n",
       "    </tr>\n",
       "  </thead>\n",
       "  <tbody>\n",
       "    <tr>\n",
       "      <th>1</th>\n",
       "      <td>Aaditya</td>\n",
       "      <td>89</td>\n",
       "    </tr>\n",
       "    <tr>\n",
       "      <th>2</th>\n",
       "      <td>Krisandus</td>\n",
       "      <td>99</td>\n",
       "    </tr>\n",
       "    <tr>\n",
       "      <th>5</th>\n",
       "      <td>Mikaela</td>\n",
       "      <td>83</td>\n",
       "    </tr>\n",
       "    <tr>\n",
       "      <th>6</th>\n",
       "      <td>Arsene</td>\n",
       "      <td>99</td>\n",
       "    </tr>\n",
       "  </tbody>\n",
       "</table>\n",
       "</div>"
      ],
      "text/plain": [
       "        Nama  Skor\n",
       "1    Aaditya    89\n",
       "2  Krisandus    99\n",
       "5    Mikaela    83\n",
       "6     Arsene    99"
      ]
     },
     "execution_count": 151,
     "metadata": {},
     "output_type": "execute_result"
    }
   ],
   "source": [
    "# Menggunakan fungsi .isin()\n",
    "df1[df1['Jenis_kelamin'].isin(['Perempuan'])][['Nama', 'Skor']]"
   ]
  },
  {
   "cell_type": "code",
   "execution_count": null,
   "metadata": {},
   "outputs": [],
   "source": []
  }
 ],
 "metadata": {
  "kernelspec": {
   "display_name": "Python 3 (ipykernel)",
   "language": "python",
   "name": "python3"
  },
  "language_info": {
   "codemirror_mode": {
    "name": "ipython",
    "version": 3
   },
   "file_extension": ".py",
   "mimetype": "text/x-python",
   "name": "python",
   "nbconvert_exporter": "python",
   "pygments_lexer": "ipython3",
   "version": "3.9.15"
  }
 },
 "nbformat": 4,
 "nbformat_minor": 4
}
